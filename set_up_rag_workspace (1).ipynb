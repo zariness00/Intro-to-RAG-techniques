{
  "cells": [
    {
      "cell_type": "code",
      "source": [
        "!pip install chromadb\n",
        "!pip install langchain\n",
        "!pip install openai\n",
        "!pip install requests"
      ],
      "metadata": {
        "colab": {
          "base_uri": "https://localhost:8080/",
          "height": 1000
        },
        "id": "Ke0tJk5yUmtV",
        "outputId": "3cce02ab-8a62-4e70-dd6e-3091654bf675"
      },
      "id": "Ke0tJk5yUmtV",
      "execution_count": 1,
      "outputs": [
        {
          "output_type": "stream",
          "name": "stdout",
          "text": [
            "Collecting chromadb\n",
            "  Downloading chromadb-0.6.3-py3-none-any.whl.metadata (6.8 kB)\n",
            "Collecting build>=1.0.3 (from chromadb)\n",
            "  Downloading build-1.2.2.post1-py3-none-any.whl.metadata (6.5 kB)\n",
            "Requirement already satisfied: pydantic>=1.9 in /usr/local/lib/python3.11/dist-packages (from chromadb) (2.10.6)\n",
            "Collecting chroma-hnswlib==0.7.6 (from chromadb)\n",
            "  Downloading chroma_hnswlib-0.7.6-cp311-cp311-manylinux_2_17_x86_64.manylinux2014_x86_64.whl.metadata (252 bytes)\n",
            "Collecting fastapi>=0.95.2 (from chromadb)\n",
            "  Downloading fastapi-0.115.8-py3-none-any.whl.metadata (27 kB)\n",
            "Collecting uvicorn>=0.18.3 (from uvicorn[standard]>=0.18.3->chromadb)\n",
            "  Downloading uvicorn-0.34.0-py3-none-any.whl.metadata (6.5 kB)\n",
            "Requirement already satisfied: numpy>=1.22.5 in /usr/local/lib/python3.11/dist-packages (from chromadb) (1.26.4)\n",
            "Collecting posthog>=2.4.0 (from chromadb)\n",
            "  Downloading posthog-3.15.1-py2.py3-none-any.whl.metadata (2.9 kB)\n",
            "Requirement already satisfied: typing_extensions>=4.5.0 in /usr/local/lib/python3.11/dist-packages (from chromadb) (4.12.2)\n",
            "Collecting onnxruntime>=1.14.1 (from chromadb)\n",
            "  Downloading onnxruntime-1.20.1-cp311-cp311-manylinux_2_27_x86_64.manylinux_2_28_x86_64.whl.metadata (4.5 kB)\n",
            "Requirement already satisfied: opentelemetry-api>=1.2.0 in /usr/local/lib/python3.11/dist-packages (from chromadb) (1.16.0)\n",
            "Collecting opentelemetry-exporter-otlp-proto-grpc>=1.2.0 (from chromadb)\n",
            "  Downloading opentelemetry_exporter_otlp_proto_grpc-1.30.0-py3-none-any.whl.metadata (2.4 kB)\n",
            "Collecting opentelemetry-instrumentation-fastapi>=0.41b0 (from chromadb)\n",
            "  Downloading opentelemetry_instrumentation_fastapi-0.51b0-py3-none-any.whl.metadata (2.2 kB)\n",
            "Requirement already satisfied: opentelemetry-sdk>=1.2.0 in /usr/local/lib/python3.11/dist-packages (from chromadb) (1.16.0)\n",
            "Requirement already satisfied: tokenizers>=0.13.2 in /usr/local/lib/python3.11/dist-packages (from chromadb) (0.21.0)\n",
            "Collecting pypika>=0.48.9 (from chromadb)\n",
            "  Downloading PyPika-0.48.9.tar.gz (67 kB)\n",
            "\u001b[2K     \u001b[90m━━━━━━━━━━━━━━━━━━━━━━━━━━━━━━━━━━━━━━━━\u001b[0m \u001b[32m67.3/67.3 kB\u001b[0m \u001b[31m4.4 MB/s\u001b[0m eta \u001b[36m0:00:00\u001b[0m\n",
            "\u001b[?25h  Installing build dependencies ... \u001b[?25l\u001b[?25hdone\n",
            "  Getting requirements to build wheel ... \u001b[?25l\u001b[?25hdone\n",
            "  Preparing metadata (pyproject.toml) ... \u001b[?25l\u001b[?25hdone\n",
            "Requirement already satisfied: tqdm>=4.65.0 in /usr/local/lib/python3.11/dist-packages (from chromadb) (4.67.1)\n",
            "Collecting overrides>=7.3.1 (from chromadb)\n",
            "  Downloading overrides-7.7.0-py3-none-any.whl.metadata (5.8 kB)\n",
            "Requirement already satisfied: importlib-resources in /usr/local/lib/python3.11/dist-packages (from chromadb) (6.5.2)\n",
            "Requirement already satisfied: grpcio>=1.58.0 in /usr/local/lib/python3.11/dist-packages (from chromadb) (1.70.0)\n",
            "Collecting bcrypt>=4.0.1 (from chromadb)\n",
            "  Downloading bcrypt-4.2.1-cp39-abi3-manylinux_2_28_x86_64.whl.metadata (9.8 kB)\n",
            "Requirement already satisfied: typer>=0.9.0 in /usr/local/lib/python3.11/dist-packages (from chromadb) (0.15.1)\n",
            "Collecting kubernetes>=28.1.0 (from chromadb)\n",
            "  Downloading kubernetes-32.0.1-py2.py3-none-any.whl.metadata (1.7 kB)\n",
            "Requirement already satisfied: tenacity>=8.2.3 in /usr/local/lib/python3.11/dist-packages (from chromadb) (9.0.0)\n",
            "Requirement already satisfied: PyYAML>=6.0.0 in /usr/local/lib/python3.11/dist-packages (from chromadb) (6.0.2)\n",
            "Collecting mmh3>=4.0.1 (from chromadb)\n",
            "  Downloading mmh3-5.1.0-cp311-cp311-manylinux_2_5_x86_64.manylinux1_x86_64.manylinux_2_17_x86_64.manylinux2014_x86_64.whl.metadata (16 kB)\n",
            "Requirement already satisfied: orjson>=3.9.12 in /usr/local/lib/python3.11/dist-packages (from chromadb) (3.10.15)\n",
            "Requirement already satisfied: httpx>=0.27.0 in /usr/local/lib/python3.11/dist-packages (from chromadb) (0.28.1)\n",
            "Requirement already satisfied: rich>=10.11.0 in /usr/local/lib/python3.11/dist-packages (from chromadb) (13.9.4)\n",
            "Requirement already satisfied: packaging>=19.1 in /usr/local/lib/python3.11/dist-packages (from build>=1.0.3->chromadb) (24.2)\n",
            "Collecting pyproject_hooks (from build>=1.0.3->chromadb)\n",
            "  Downloading pyproject_hooks-1.2.0-py3-none-any.whl.metadata (1.3 kB)\n",
            "Collecting starlette<0.46.0,>=0.40.0 (from fastapi>=0.95.2->chromadb)\n",
            "  Downloading starlette-0.45.3-py3-none-any.whl.metadata (6.3 kB)\n",
            "Requirement already satisfied: anyio in /usr/local/lib/python3.11/dist-packages (from httpx>=0.27.0->chromadb) (3.7.1)\n",
            "Requirement already satisfied: certifi in /usr/local/lib/python3.11/dist-packages (from httpx>=0.27.0->chromadb) (2025.1.31)\n",
            "Requirement already satisfied: httpcore==1.* in /usr/local/lib/python3.11/dist-packages (from httpx>=0.27.0->chromadb) (1.0.7)\n",
            "Requirement already satisfied: idna in /usr/local/lib/python3.11/dist-packages (from httpx>=0.27.0->chromadb) (3.10)\n",
            "Requirement already satisfied: h11<0.15,>=0.13 in /usr/local/lib/python3.11/dist-packages (from httpcore==1.*->httpx>=0.27.0->chromadb) (0.14.0)\n",
            "Requirement already satisfied: six>=1.9.0 in /usr/local/lib/python3.11/dist-packages (from kubernetes>=28.1.0->chromadb) (1.17.0)\n",
            "Requirement already satisfied: python-dateutil>=2.5.3 in /usr/local/lib/python3.11/dist-packages (from kubernetes>=28.1.0->chromadb) (2.8.2)\n",
            "Requirement already satisfied: google-auth>=1.0.1 in /usr/local/lib/python3.11/dist-packages (from kubernetes>=28.1.0->chromadb) (2.27.0)\n",
            "Requirement already satisfied: websocket-client!=0.40.0,!=0.41.*,!=0.42.*,>=0.32.0 in /usr/local/lib/python3.11/dist-packages (from kubernetes>=28.1.0->chromadb) (1.8.0)\n",
            "Requirement already satisfied: requests in /usr/local/lib/python3.11/dist-packages (from kubernetes>=28.1.0->chromadb) (2.32.3)\n",
            "Requirement already satisfied: requests-oauthlib in /usr/local/lib/python3.11/dist-packages (from kubernetes>=28.1.0->chromadb) (2.0.0)\n",
            "Requirement already satisfied: oauthlib>=3.2.2 in /usr/local/lib/python3.11/dist-packages (from kubernetes>=28.1.0->chromadb) (3.2.2)\n",
            "Requirement already satisfied: urllib3>=1.24.2 in /usr/local/lib/python3.11/dist-packages (from kubernetes>=28.1.0->chromadb) (2.3.0)\n",
            "Collecting durationpy>=0.7 (from kubernetes>=28.1.0->chromadb)\n",
            "  Downloading durationpy-0.9-py3-none-any.whl.metadata (338 bytes)\n",
            "Collecting coloredlogs (from onnxruntime>=1.14.1->chromadb)\n",
            "  Downloading coloredlogs-15.0.1-py2.py3-none-any.whl.metadata (12 kB)\n",
            "Requirement already satisfied: flatbuffers in /usr/local/lib/python3.11/dist-packages (from onnxruntime>=1.14.1->chromadb) (25.2.10)\n",
            "Requirement already satisfied: protobuf in /usr/local/lib/python3.11/dist-packages (from onnxruntime>=1.14.1->chromadb) (4.25.6)\n",
            "Requirement already satisfied: sympy in /usr/local/lib/python3.11/dist-packages (from onnxruntime>=1.14.1->chromadb) (1.13.1)\n",
            "Requirement already satisfied: deprecated>=1.2.6 in /usr/local/lib/python3.11/dist-packages (from opentelemetry-api>=1.2.0->chromadb) (1.2.18)\n",
            "Requirement already satisfied: setuptools>=16.0 in /usr/local/lib/python3.11/dist-packages (from opentelemetry-api>=1.2.0->chromadb) (75.1.0)\n",
            "Requirement already satisfied: googleapis-common-protos~=1.52 in /usr/local/lib/python3.11/dist-packages (from opentelemetry-exporter-otlp-proto-grpc>=1.2.0->chromadb) (1.67.0)\n",
            "Collecting opentelemetry-exporter-otlp-proto-common==1.30.0 (from opentelemetry-exporter-otlp-proto-grpc>=1.2.0->chromadb)\n",
            "  Downloading opentelemetry_exporter_otlp_proto_common-1.30.0-py3-none-any.whl.metadata (1.9 kB)\n",
            "Collecting opentelemetry-proto==1.30.0 (from opentelemetry-exporter-otlp-proto-grpc>=1.2.0->chromadb)\n",
            "  Downloading opentelemetry_proto-1.30.0-py3-none-any.whl.metadata (2.4 kB)\n",
            "Collecting opentelemetry-sdk>=1.2.0 (from chromadb)\n",
            "  Downloading opentelemetry_sdk-1.30.0-py3-none-any.whl.metadata (1.6 kB)\n",
            "Collecting protobuf (from onnxruntime>=1.14.1->chromadb)\n",
            "  Downloading protobuf-5.29.3-cp38-abi3-manylinux2014_x86_64.whl.metadata (592 bytes)\n",
            "Collecting opentelemetry-instrumentation-asgi==0.51b0 (from opentelemetry-instrumentation-fastapi>=0.41b0->chromadb)\n",
            "  Downloading opentelemetry_instrumentation_asgi-0.51b0-py3-none-any.whl.metadata (2.1 kB)\n",
            "Collecting opentelemetry-instrumentation==0.51b0 (from opentelemetry-instrumentation-fastapi>=0.41b0->chromadb)\n",
            "  Downloading opentelemetry_instrumentation-0.51b0-py3-none-any.whl.metadata (6.3 kB)\n",
            "Collecting opentelemetry-semantic-conventions==0.51b0 (from opentelemetry-instrumentation-fastapi>=0.41b0->chromadb)\n",
            "  Downloading opentelemetry_semantic_conventions-0.51b0-py3-none-any.whl.metadata (2.5 kB)\n",
            "Collecting opentelemetry-util-http==0.51b0 (from opentelemetry-instrumentation-fastapi>=0.41b0->chromadb)\n",
            "  Downloading opentelemetry_util_http-0.51b0-py3-none-any.whl.metadata (2.6 kB)\n",
            "Requirement already satisfied: wrapt<2.0.0,>=1.0.0 in /usr/local/lib/python3.11/dist-packages (from opentelemetry-instrumentation==0.51b0->opentelemetry-instrumentation-fastapi>=0.41b0->chromadb) (1.17.2)\n",
            "Collecting asgiref~=3.0 (from opentelemetry-instrumentation-asgi==0.51b0->opentelemetry-instrumentation-fastapi>=0.41b0->chromadb)\n",
            "  Downloading asgiref-3.8.1-py3-none-any.whl.metadata (9.3 kB)\n",
            "Collecting opentelemetry-api>=1.2.0 (from chromadb)\n",
            "  Downloading opentelemetry_api-1.30.0-py3-none-any.whl.metadata (1.6 kB)\n",
            "Collecting importlib-metadata<=8.5.0,>=6.0 (from opentelemetry-api>=1.2.0->chromadb)\n",
            "  Downloading importlib_metadata-8.5.0-py3-none-any.whl.metadata (4.8 kB)\n",
            "Collecting monotonic>=1.5 (from posthog>=2.4.0->chromadb)\n",
            "  Downloading monotonic-1.6-py2.py3-none-any.whl.metadata (1.5 kB)\n",
            "Collecting backoff>=1.10.0 (from posthog>=2.4.0->chromadb)\n",
            "  Downloading backoff-2.2.1-py3-none-any.whl.metadata (14 kB)\n",
            "Requirement already satisfied: annotated-types>=0.6.0 in /usr/local/lib/python3.11/dist-packages (from pydantic>=1.9->chromadb) (0.7.0)\n",
            "Requirement already satisfied: pydantic-core==2.27.2 in /usr/local/lib/python3.11/dist-packages (from pydantic>=1.9->chromadb) (2.27.2)\n",
            "Requirement already satisfied: markdown-it-py>=2.2.0 in /usr/local/lib/python3.11/dist-packages (from rich>=10.11.0->chromadb) (3.0.0)\n",
            "Requirement already satisfied: pygments<3.0.0,>=2.13.0 in /usr/local/lib/python3.11/dist-packages (from rich>=10.11.0->chromadb) (2.18.0)\n",
            "Requirement already satisfied: huggingface-hub<1.0,>=0.16.4 in /usr/local/lib/python3.11/dist-packages (from tokenizers>=0.13.2->chromadb) (0.28.1)\n",
            "Requirement already satisfied: click>=8.0.0 in /usr/local/lib/python3.11/dist-packages (from typer>=0.9.0->chromadb) (8.1.8)\n",
            "Requirement already satisfied: shellingham>=1.3.0 in /usr/local/lib/python3.11/dist-packages (from typer>=0.9.0->chromadb) (1.5.4)\n",
            "Collecting httptools>=0.6.3 (from uvicorn[standard]>=0.18.3->chromadb)\n",
            "  Downloading httptools-0.6.4-cp311-cp311-manylinux_2_5_x86_64.manylinux1_x86_64.manylinux_2_17_x86_64.manylinux2014_x86_64.whl.metadata (3.6 kB)\n",
            "Collecting python-dotenv>=0.13 (from uvicorn[standard]>=0.18.3->chromadb)\n",
            "  Downloading python_dotenv-1.0.1-py3-none-any.whl.metadata (23 kB)\n",
            "Collecting uvloop!=0.15.0,!=0.15.1,>=0.14.0 (from uvicorn[standard]>=0.18.3->chromadb)\n",
            "  Downloading uvloop-0.21.0-cp311-cp311-manylinux_2_17_x86_64.manylinux2014_x86_64.whl.metadata (4.9 kB)\n",
            "Collecting watchfiles>=0.13 (from uvicorn[standard]>=0.18.3->chromadb)\n",
            "  Downloading watchfiles-1.0.4-cp311-cp311-manylinux_2_17_x86_64.manylinux2014_x86_64.whl.metadata (4.9 kB)\n",
            "Requirement already satisfied: websockets>=10.4 in /usr/local/lib/python3.11/dist-packages (from uvicorn[standard]>=0.18.3->chromadb) (14.2)\n",
            "Requirement already satisfied: cachetools<6.0,>=2.0.0 in /usr/local/lib/python3.11/dist-packages (from google-auth>=1.0.1->kubernetes>=28.1.0->chromadb) (5.5.1)\n",
            "Requirement already satisfied: pyasn1-modules>=0.2.1 in /usr/local/lib/python3.11/dist-packages (from google-auth>=1.0.1->kubernetes>=28.1.0->chromadb) (0.4.1)\n",
            "Requirement already satisfied: rsa<5,>=3.1.4 in /usr/local/lib/python3.11/dist-packages (from google-auth>=1.0.1->kubernetes>=28.1.0->chromadb) (4.9)\n",
            "Requirement already satisfied: filelock in /usr/local/lib/python3.11/dist-packages (from huggingface-hub<1.0,>=0.16.4->tokenizers>=0.13.2->chromadb) (3.17.0)\n",
            "Requirement already satisfied: fsspec>=2023.5.0 in /usr/local/lib/python3.11/dist-packages (from huggingface-hub<1.0,>=0.16.4->tokenizers>=0.13.2->chromadb) (2024.10.0)\n",
            "Requirement already satisfied: zipp>=3.20 in /usr/local/lib/python3.11/dist-packages (from importlib-metadata<=8.5.0,>=6.0->opentelemetry-api>=1.2.0->chromadb) (3.21.0)\n",
            "Requirement already satisfied: mdurl~=0.1 in /usr/local/lib/python3.11/dist-packages (from markdown-it-py>=2.2.0->rich>=10.11.0->chromadb) (0.1.2)\n",
            "Requirement already satisfied: charset-normalizer<4,>=2 in /usr/local/lib/python3.11/dist-packages (from requests->kubernetes>=28.1.0->chromadb) (3.4.1)\n",
            "Requirement already satisfied: sniffio>=1.1 in /usr/local/lib/python3.11/dist-packages (from anyio->httpx>=0.27.0->chromadb) (1.3.1)\n",
            "Collecting humanfriendly>=9.1 (from coloredlogs->onnxruntime>=1.14.1->chromadb)\n",
            "  Downloading humanfriendly-10.0-py2.py3-none-any.whl.metadata (9.2 kB)\n",
            "Requirement already satisfied: mpmath<1.4,>=1.1.0 in /usr/local/lib/python3.11/dist-packages (from sympy->onnxruntime>=1.14.1->chromadb) (1.3.0)\n",
            "Requirement already satisfied: pyasn1<0.7.0,>=0.4.6 in /usr/local/lib/python3.11/dist-packages (from pyasn1-modules>=0.2.1->google-auth>=1.0.1->kubernetes>=28.1.0->chromadb) (0.6.1)\n",
            "Downloading chromadb-0.6.3-py3-none-any.whl (611 kB)\n",
            "\u001b[2K   \u001b[90m━━━━━━━━━━━━━━━━━━━━━━━━━━━━━━━━━━━━━━━━\u001b[0m \u001b[32m611.1/611.1 kB\u001b[0m \u001b[31m24.3 MB/s\u001b[0m eta \u001b[36m0:00:00\u001b[0m\n",
            "\u001b[?25hDownloading chroma_hnswlib-0.7.6-cp311-cp311-manylinux_2_17_x86_64.manylinux2014_x86_64.whl (2.4 MB)\n",
            "\u001b[2K   \u001b[90m━━━━━━━━━━━━━━━━━━━━━━━━━━━━━━━━━━━━━━━━\u001b[0m \u001b[32m2.4/2.4 MB\u001b[0m \u001b[31m62.1 MB/s\u001b[0m eta \u001b[36m0:00:00\u001b[0m\n",
            "\u001b[?25hDownloading bcrypt-4.2.1-cp39-abi3-manylinux_2_28_x86_64.whl (278 kB)\n",
            "\u001b[2K   \u001b[90m━━━━━━━━━━━━━━━━━━━━━━━━━━━━━━━━━━━━━━━━\u001b[0m \u001b[32m278.6/278.6 kB\u001b[0m \u001b[31m18.3 MB/s\u001b[0m eta \u001b[36m0:00:00\u001b[0m\n",
            "\u001b[?25hDownloading build-1.2.2.post1-py3-none-any.whl (22 kB)\n",
            "Downloading fastapi-0.115.8-py3-none-any.whl (94 kB)\n",
            "\u001b[2K   \u001b[90m━━━━━━━━━━━━━━━━━━━━━━━━━━━━━━━━━━━━━━━━\u001b[0m \u001b[32m94.8/94.8 kB\u001b[0m \u001b[31m8.7 MB/s\u001b[0m eta \u001b[36m0:00:00\u001b[0m\n",
            "\u001b[?25hDownloading kubernetes-32.0.1-py2.py3-none-any.whl (2.0 MB)\n",
            "\u001b[2K   \u001b[90m━━━━━━━━━━━━━━━━━━━━━━━━━━━━━━━━━━━━━━━━\u001b[0m \u001b[32m2.0/2.0 MB\u001b[0m \u001b[31m42.8 MB/s\u001b[0m eta \u001b[36m0:00:00\u001b[0m\n",
            "\u001b[?25hDownloading mmh3-5.1.0-cp311-cp311-manylinux_2_5_x86_64.manylinux1_x86_64.manylinux_2_17_x86_64.manylinux2014_x86_64.whl (101 kB)\n",
            "\u001b[2K   \u001b[90m━━━━━━━━━━━━━━━━━━━━━━━━━━━━━━━━━━━━━━━━\u001b[0m \u001b[32m101.6/101.6 kB\u001b[0m \u001b[31m6.9 MB/s\u001b[0m eta \u001b[36m0:00:00\u001b[0m\n",
            "\u001b[?25hDownloading onnxruntime-1.20.1-cp311-cp311-manylinux_2_27_x86_64.manylinux_2_28_x86_64.whl (13.3 MB)\n",
            "\u001b[2K   \u001b[90m━━━━━━━━━━━━━━━━━━━━━━━━━━━━━━━━━━━━━━━━\u001b[0m \u001b[32m13.3/13.3 MB\u001b[0m \u001b[31m85.1 MB/s\u001b[0m eta \u001b[36m0:00:00\u001b[0m\n",
            "\u001b[?25hDownloading opentelemetry_exporter_otlp_proto_grpc-1.30.0-py3-none-any.whl (18 kB)\n",
            "Downloading opentelemetry_exporter_otlp_proto_common-1.30.0-py3-none-any.whl (18 kB)\n",
            "Downloading opentelemetry_proto-1.30.0-py3-none-any.whl (55 kB)\n",
            "\u001b[2K   \u001b[90m━━━━━━━━━━━━━━━━━━━━━━━━━━━━━━━━━━━━━━━━\u001b[0m \u001b[32m55.9/55.9 kB\u001b[0m \u001b[31m4.4 MB/s\u001b[0m eta \u001b[36m0:00:00\u001b[0m\n",
            "\u001b[?25hDownloading opentelemetry_instrumentation_fastapi-0.51b0-py3-none-any.whl (12 kB)\n",
            "Downloading opentelemetry_instrumentation-0.51b0-py3-none-any.whl (30 kB)\n",
            "Downloading opentelemetry_instrumentation_asgi-0.51b0-py3-none-any.whl (16 kB)\n",
            "Downloading opentelemetry_semantic_conventions-0.51b0-py3-none-any.whl (177 kB)\n",
            "\u001b[2K   \u001b[90m━━━━━━━━━━━━━━━━━━━━━━━━━━━━━━━━━━━━━━━━\u001b[0m \u001b[32m177.4/177.4 kB\u001b[0m \u001b[31m13.0 MB/s\u001b[0m eta \u001b[36m0:00:00\u001b[0m\n",
            "\u001b[?25hDownloading opentelemetry_api-1.30.0-py3-none-any.whl (64 kB)\n",
            "\u001b[2K   \u001b[90m━━━━━━━━━━━━━━━━━━━━━━━━━━━━━━━━━━━━━━━━\u001b[0m \u001b[32m65.0/65.0 kB\u001b[0m \u001b[31m6.1 MB/s\u001b[0m eta \u001b[36m0:00:00\u001b[0m\n",
            "\u001b[?25hDownloading opentelemetry_util_http-0.51b0-py3-none-any.whl (7.3 kB)\n",
            "Downloading opentelemetry_sdk-1.30.0-py3-none-any.whl (118 kB)\n",
            "\u001b[2K   \u001b[90m━━━━━━━━━━━━━━━━━━━━━━━━━━━━━━━━━━━━━━━━\u001b[0m \u001b[32m118.7/118.7 kB\u001b[0m \u001b[31m11.5 MB/s\u001b[0m eta \u001b[36m0:00:00\u001b[0m\n",
            "\u001b[?25hDownloading overrides-7.7.0-py3-none-any.whl (17 kB)\n",
            "Downloading posthog-3.15.1-py2.py3-none-any.whl (74 kB)\n",
            "\u001b[2K   \u001b[90m━━━━━━━━━━━━━━━━━━━━━━━━━━━━━━━━━━━━━━━━\u001b[0m \u001b[32m74.7/74.7 kB\u001b[0m \u001b[31m6.2 MB/s\u001b[0m eta \u001b[36m0:00:00\u001b[0m\n",
            "\u001b[?25hDownloading uvicorn-0.34.0-py3-none-any.whl (62 kB)\n",
            "\u001b[2K   \u001b[90m━━━━━━━━━━━━━━━━━━━━━━━━━━━━━━━━━━━━━━━━\u001b[0m \u001b[32m62.3/62.3 kB\u001b[0m \u001b[31m3.7 MB/s\u001b[0m eta \u001b[36m0:00:00\u001b[0m\n",
            "\u001b[?25hDownloading backoff-2.2.1-py3-none-any.whl (15 kB)\n",
            "Downloading durationpy-0.9-py3-none-any.whl (3.5 kB)\n",
            "Downloading httptools-0.6.4-cp311-cp311-manylinux_2_5_x86_64.manylinux1_x86_64.manylinux_2_17_x86_64.manylinux2014_x86_64.whl (459 kB)\n",
            "\u001b[2K   \u001b[90m━━━━━━━━━━━━━━━━━━━━━━━━━━━━━━━━━━━━━━━━\u001b[0m \u001b[32m459.8/459.8 kB\u001b[0m \u001b[31m30.2 MB/s\u001b[0m eta \u001b[36m0:00:00\u001b[0m\n",
            "\u001b[?25hDownloading importlib_metadata-8.5.0-py3-none-any.whl (26 kB)\n",
            "Downloading monotonic-1.6-py2.py3-none-any.whl (8.2 kB)\n",
            "Downloading protobuf-5.29.3-cp38-abi3-manylinux2014_x86_64.whl (319 kB)\n",
            "\u001b[2K   \u001b[90m━━━━━━━━━━━━━━━━━━━━━━━━━━━━━━━━━━━━━━━━\u001b[0m \u001b[32m319.7/319.7 kB\u001b[0m \u001b[31m20.7 MB/s\u001b[0m eta \u001b[36m0:00:00\u001b[0m\n",
            "\u001b[?25hDownloading python_dotenv-1.0.1-py3-none-any.whl (19 kB)\n",
            "Downloading starlette-0.45.3-py3-none-any.whl (71 kB)\n",
            "\u001b[2K   \u001b[90m━━━━━━━━━━━━━━━━━━━━━━━━━━━━━━━━━━━━━━━━\u001b[0m \u001b[32m71.5/71.5 kB\u001b[0m \u001b[31m5.6 MB/s\u001b[0m eta \u001b[36m0:00:00\u001b[0m\n",
            "\u001b[?25hDownloading uvloop-0.21.0-cp311-cp311-manylinux_2_17_x86_64.manylinux2014_x86_64.whl (4.0 MB)\n",
            "\u001b[2K   \u001b[90m━━━━━━━━━━━━━━━━━━━━━━━━━━━━━━━━━━━━━━━━\u001b[0m \u001b[32m4.0/4.0 MB\u001b[0m \u001b[31m89.4 MB/s\u001b[0m eta \u001b[36m0:00:00\u001b[0m\n",
            "\u001b[?25hDownloading watchfiles-1.0.4-cp311-cp311-manylinux_2_17_x86_64.manylinux2014_x86_64.whl (452 kB)\n",
            "\u001b[2K   \u001b[90m━━━━━━━━━━━━━━━━━━━━━━━━━━━━━━━━━━━━━━━━\u001b[0m \u001b[32m452.6/452.6 kB\u001b[0m \u001b[31m34.2 MB/s\u001b[0m eta \u001b[36m0:00:00\u001b[0m\n",
            "\u001b[?25hDownloading coloredlogs-15.0.1-py2.py3-none-any.whl (46 kB)\n",
            "\u001b[2K   \u001b[90m━━━━━━━━━━━━━━━━━━━━━━━━━━━━━━━━━━━━━━━━\u001b[0m \u001b[32m46.0/46.0 kB\u001b[0m \u001b[31m4.2 MB/s\u001b[0m eta \u001b[36m0:00:00\u001b[0m\n",
            "\u001b[?25hDownloading pyproject_hooks-1.2.0-py3-none-any.whl (10 kB)\n",
            "Downloading asgiref-3.8.1-py3-none-any.whl (23 kB)\n",
            "Downloading humanfriendly-10.0-py2.py3-none-any.whl (86 kB)\n",
            "\u001b[2K   \u001b[90m━━━━━━━━━━━━━━━━━━━━━━━━━━━━━━━━━━━━━━━━\u001b[0m \u001b[32m86.8/86.8 kB\u001b[0m \u001b[31m8.4 MB/s\u001b[0m eta \u001b[36m0:00:00\u001b[0m\n",
            "\u001b[?25hBuilding wheels for collected packages: pypika\n",
            "  Building wheel for pypika (pyproject.toml) ... \u001b[?25l\u001b[?25hdone\n",
            "  Created wheel for pypika: filename=PyPika-0.48.9-py2.py3-none-any.whl size=53771 sha256=67e41edc606b2ea4b60715860d1a232ec1d16cef4c841402899d21c6e26df6e5\n",
            "  Stored in directory: /root/.cache/pip/wheels/a3/01/bd/4c40ceb9d5354160cb186dcc153360f4ab7eb23e2b24daf96d\n",
            "Successfully built pypika\n",
            "Installing collected packages: pypika, monotonic, durationpy, uvloop, uvicorn, python-dotenv, pyproject_hooks, protobuf, overrides, opentelemetry-util-http, mmh3, importlib-metadata, humanfriendly, httptools, chroma-hnswlib, bcrypt, backoff, asgiref, watchfiles, starlette, posthog, opentelemetry-proto, opentelemetry-api, coloredlogs, build, opentelemetry-semantic-conventions, opentelemetry-exporter-otlp-proto-common, onnxruntime, kubernetes, fastapi, opentelemetry-sdk, opentelemetry-instrumentation, opentelemetry-instrumentation-asgi, opentelemetry-exporter-otlp-proto-grpc, opentelemetry-instrumentation-fastapi, chromadb\n",
            "  Attempting uninstall: protobuf\n",
            "    Found existing installation: protobuf 4.25.6\n",
            "    Uninstalling protobuf-4.25.6:\n",
            "      Successfully uninstalled protobuf-4.25.6\n",
            "  Attempting uninstall: importlib-metadata\n",
            "    Found existing installation: importlib_metadata 8.6.1\n",
            "    Uninstalling importlib_metadata-8.6.1:\n",
            "      Successfully uninstalled importlib_metadata-8.6.1\n",
            "  Attempting uninstall: opentelemetry-api\n",
            "    Found existing installation: opentelemetry-api 1.16.0\n",
            "    Uninstalling opentelemetry-api-1.16.0:\n",
            "      Successfully uninstalled opentelemetry-api-1.16.0\n",
            "  Attempting uninstall: opentelemetry-semantic-conventions\n",
            "    Found existing installation: opentelemetry-semantic-conventions 0.37b0\n",
            "    Uninstalling opentelemetry-semantic-conventions-0.37b0:\n",
            "      Successfully uninstalled opentelemetry-semantic-conventions-0.37b0\n",
            "  Attempting uninstall: opentelemetry-sdk\n",
            "    Found existing installation: opentelemetry-sdk 1.16.0\n",
            "    Uninstalling opentelemetry-sdk-1.16.0:\n",
            "      Successfully uninstalled opentelemetry-sdk-1.16.0\n",
            "Successfully installed asgiref-3.8.1 backoff-2.2.1 bcrypt-4.2.1 build-1.2.2.post1 chroma-hnswlib-0.7.6 chromadb-0.6.3 coloredlogs-15.0.1 durationpy-0.9 fastapi-0.115.8 httptools-0.6.4 humanfriendly-10.0 importlib-metadata-8.5.0 kubernetes-32.0.1 mmh3-5.1.0 monotonic-1.6 onnxruntime-1.20.1 opentelemetry-api-1.30.0 opentelemetry-exporter-otlp-proto-common-1.30.0 opentelemetry-exporter-otlp-proto-grpc-1.30.0 opentelemetry-instrumentation-0.51b0 opentelemetry-instrumentation-asgi-0.51b0 opentelemetry-instrumentation-fastapi-0.51b0 opentelemetry-proto-1.30.0 opentelemetry-sdk-1.30.0 opentelemetry-semantic-conventions-0.51b0 opentelemetry-util-http-0.51b0 overrides-7.7.0 posthog-3.15.1 protobuf-5.29.3 pypika-0.48.9 pyproject_hooks-1.2.0 python-dotenv-1.0.1 starlette-0.45.3 uvicorn-0.34.0 uvloop-0.21.0 watchfiles-1.0.4\n"
          ]
        },
        {
          "output_type": "display_data",
          "data": {
            "application/vnd.colab-display-data+json": {
              "pip_warning": {
                "packages": [
                  "importlib_metadata"
                ]
              },
              "id": "57e4ebcc376540f5af39e306973380e3"
            }
          },
          "metadata": {}
        },
        {
          "output_type": "stream",
          "name": "stdout",
          "text": [
            "Requirement already satisfied: langchain in /usr/local/lib/python3.11/dist-packages (0.3.19)\n",
            "Requirement already satisfied: langchain-core<1.0.0,>=0.3.35 in /usr/local/lib/python3.11/dist-packages (from langchain) (0.3.37)\n",
            "Requirement already satisfied: langchain-text-splitters<1.0.0,>=0.3.6 in /usr/local/lib/python3.11/dist-packages (from langchain) (0.3.6)\n",
            "Requirement already satisfied: langsmith<0.4,>=0.1.17 in /usr/local/lib/python3.11/dist-packages (from langchain) (0.3.8)\n",
            "Requirement already satisfied: pydantic<3.0.0,>=2.7.4 in /usr/local/lib/python3.11/dist-packages (from langchain) (2.10.6)\n",
            "Requirement already satisfied: SQLAlchemy<3,>=1.4 in /usr/local/lib/python3.11/dist-packages (from langchain) (2.0.38)\n",
            "Requirement already satisfied: requests<3,>=2 in /usr/local/lib/python3.11/dist-packages (from langchain) (2.32.3)\n",
            "Requirement already satisfied: PyYAML>=5.3 in /usr/local/lib/python3.11/dist-packages (from langchain) (6.0.2)\n",
            "Requirement already satisfied: aiohttp<4.0.0,>=3.8.3 in /usr/local/lib/python3.11/dist-packages (from langchain) (3.11.12)\n",
            "Requirement already satisfied: tenacity!=8.4.0,<10,>=8.1.0 in /usr/local/lib/python3.11/dist-packages (from langchain) (9.0.0)\n",
            "Requirement already satisfied: numpy<2,>=1.26.4 in /usr/local/lib/python3.11/dist-packages (from langchain) (1.26.4)\n",
            "Requirement already satisfied: aiohappyeyeballs>=2.3.0 in /usr/local/lib/python3.11/dist-packages (from aiohttp<4.0.0,>=3.8.3->langchain) (2.4.6)\n",
            "Requirement already satisfied: aiosignal>=1.1.2 in /usr/local/lib/python3.11/dist-packages (from aiohttp<4.0.0,>=3.8.3->langchain) (1.3.2)\n",
            "Requirement already satisfied: attrs>=17.3.0 in /usr/local/lib/python3.11/dist-packages (from aiohttp<4.0.0,>=3.8.3->langchain) (25.1.0)\n",
            "Requirement already satisfied: frozenlist>=1.1.1 in /usr/local/lib/python3.11/dist-packages (from aiohttp<4.0.0,>=3.8.3->langchain) (1.5.0)\n",
            "Requirement already satisfied: multidict<7.0,>=4.5 in /usr/local/lib/python3.11/dist-packages (from aiohttp<4.0.0,>=3.8.3->langchain) (6.1.0)\n",
            "Requirement already satisfied: propcache>=0.2.0 in /usr/local/lib/python3.11/dist-packages (from aiohttp<4.0.0,>=3.8.3->langchain) (0.2.1)\n",
            "Requirement already satisfied: yarl<2.0,>=1.17.0 in /usr/local/lib/python3.11/dist-packages (from aiohttp<4.0.0,>=3.8.3->langchain) (1.18.3)\n",
            "Requirement already satisfied: jsonpatch<2.0,>=1.33 in /usr/local/lib/python3.11/dist-packages (from langchain-core<1.0.0,>=0.3.35->langchain) (1.33)\n",
            "Requirement already satisfied: packaging<25,>=23.2 in /usr/local/lib/python3.11/dist-packages (from langchain-core<1.0.0,>=0.3.35->langchain) (24.2)\n",
            "Requirement already satisfied: typing-extensions>=4.7 in /usr/local/lib/python3.11/dist-packages (from langchain-core<1.0.0,>=0.3.35->langchain) (4.12.2)\n",
            "Requirement already satisfied: httpx<1,>=0.23.0 in /usr/local/lib/python3.11/dist-packages (from langsmith<0.4,>=0.1.17->langchain) (0.28.1)\n",
            "Requirement already satisfied: orjson<4.0.0,>=3.9.14 in /usr/local/lib/python3.11/dist-packages (from langsmith<0.4,>=0.1.17->langchain) (3.10.15)\n",
            "Requirement already satisfied: requests-toolbelt<2.0.0,>=1.0.0 in /usr/local/lib/python3.11/dist-packages (from langsmith<0.4,>=0.1.17->langchain) (1.0.0)\n",
            "Requirement already satisfied: zstandard<0.24.0,>=0.23.0 in /usr/local/lib/python3.11/dist-packages (from langsmith<0.4,>=0.1.17->langchain) (0.23.0)\n",
            "Requirement already satisfied: annotated-types>=0.6.0 in /usr/local/lib/python3.11/dist-packages (from pydantic<3.0.0,>=2.7.4->langchain) (0.7.0)\n",
            "Requirement already satisfied: pydantic-core==2.27.2 in /usr/local/lib/python3.11/dist-packages (from pydantic<3.0.0,>=2.7.4->langchain) (2.27.2)\n",
            "Requirement already satisfied: charset-normalizer<4,>=2 in /usr/local/lib/python3.11/dist-packages (from requests<3,>=2->langchain) (3.4.1)\n",
            "Requirement already satisfied: idna<4,>=2.5 in /usr/local/lib/python3.11/dist-packages (from requests<3,>=2->langchain) (3.10)\n",
            "Requirement already satisfied: urllib3<3,>=1.21.1 in /usr/local/lib/python3.11/dist-packages (from requests<3,>=2->langchain) (2.3.0)\n",
            "Requirement already satisfied: certifi>=2017.4.17 in /usr/local/lib/python3.11/dist-packages (from requests<3,>=2->langchain) (2025.1.31)\n",
            "Requirement already satisfied: greenlet!=0.4.17 in /usr/local/lib/python3.11/dist-packages (from SQLAlchemy<3,>=1.4->langchain) (3.1.1)\n",
            "Requirement already satisfied: anyio in /usr/local/lib/python3.11/dist-packages (from httpx<1,>=0.23.0->langsmith<0.4,>=0.1.17->langchain) (3.7.1)\n",
            "Requirement already satisfied: httpcore==1.* in /usr/local/lib/python3.11/dist-packages (from httpx<1,>=0.23.0->langsmith<0.4,>=0.1.17->langchain) (1.0.7)\n",
            "Requirement already satisfied: h11<0.15,>=0.13 in /usr/local/lib/python3.11/dist-packages (from httpcore==1.*->httpx<1,>=0.23.0->langsmith<0.4,>=0.1.17->langchain) (0.14.0)\n",
            "Requirement already satisfied: jsonpointer>=1.9 in /usr/local/lib/python3.11/dist-packages (from jsonpatch<2.0,>=1.33->langchain-core<1.0.0,>=0.3.35->langchain) (3.0.0)\n",
            "Requirement already satisfied: sniffio>=1.1 in /usr/local/lib/python3.11/dist-packages (from anyio->httpx<1,>=0.23.0->langsmith<0.4,>=0.1.17->langchain) (1.3.1)\n",
            "Requirement already satisfied: openai in /usr/local/lib/python3.11/dist-packages (1.61.1)\n",
            "Requirement already satisfied: anyio<5,>=3.5.0 in /usr/local/lib/python3.11/dist-packages (from openai) (3.7.1)\n",
            "Requirement already satisfied: distro<2,>=1.7.0 in /usr/local/lib/python3.11/dist-packages (from openai) (1.9.0)\n",
            "Requirement already satisfied: httpx<1,>=0.23.0 in /usr/local/lib/python3.11/dist-packages (from openai) (0.28.1)\n",
            "Requirement already satisfied: jiter<1,>=0.4.0 in /usr/local/lib/python3.11/dist-packages (from openai) (0.8.2)\n",
            "Requirement already satisfied: pydantic<3,>=1.9.0 in /usr/local/lib/python3.11/dist-packages (from openai) (2.10.6)\n",
            "Requirement already satisfied: sniffio in /usr/local/lib/python3.11/dist-packages (from openai) (1.3.1)\n",
            "Requirement already satisfied: tqdm>4 in /usr/local/lib/python3.11/dist-packages (from openai) (4.67.1)\n",
            "Requirement already satisfied: typing-extensions<5,>=4.11 in /usr/local/lib/python3.11/dist-packages (from openai) (4.12.2)\n",
            "Requirement already satisfied: idna>=2.8 in /usr/local/lib/python3.11/dist-packages (from anyio<5,>=3.5.0->openai) (3.10)\n",
            "Requirement already satisfied: certifi in /usr/local/lib/python3.11/dist-packages (from httpx<1,>=0.23.0->openai) (2025.1.31)\n",
            "Requirement already satisfied: httpcore==1.* in /usr/local/lib/python3.11/dist-packages (from httpx<1,>=0.23.0->openai) (1.0.7)\n",
            "Requirement already satisfied: h11<0.15,>=0.13 in /usr/local/lib/python3.11/dist-packages (from httpcore==1.*->httpx<1,>=0.23.0->openai) (0.14.0)\n",
            "Requirement already satisfied: annotated-types>=0.6.0 in /usr/local/lib/python3.11/dist-packages (from pydantic<3,>=1.9.0->openai) (0.7.0)\n",
            "Requirement already satisfied: pydantic-core==2.27.2 in /usr/local/lib/python3.11/dist-packages (from pydantic<3,>=1.9.0->openai) (2.27.2)\n",
            "Requirement already satisfied: requests in /usr/local/lib/python3.11/dist-packages (2.32.3)\n",
            "Requirement already satisfied: charset-normalizer<4,>=2 in /usr/local/lib/python3.11/dist-packages (from requests) (3.4.1)\n",
            "Requirement already satisfied: idna<4,>=2.5 in /usr/local/lib/python3.11/dist-packages (from requests) (3.10)\n",
            "Requirement already satisfied: urllib3<3,>=1.21.1 in /usr/local/lib/python3.11/dist-packages (from requests) (2.3.0)\n",
            "Requirement already satisfied: certifi>=2017.4.17 in /usr/local/lib/python3.11/dist-packages (from requests) (2025.1.31)\n"
          ]
        }
      ]
    },
    {
      "cell_type": "code",
      "execution_count": 2,
      "id": "4ca55e76",
      "metadata": {
        "id": "4ca55e76"
      },
      "outputs": [],
      "source": [
        "import chromadb"
      ]
    },
    {
      "cell_type": "code",
      "execution_count": 3,
      "id": "82a9d306",
      "metadata": {
        "id": "82a9d306"
      },
      "outputs": [],
      "source": [
        "from langchain.text_splitter import RecursiveCharacterTextSplitter"
      ]
    },
    {
      "cell_type": "code",
      "execution_count": 4,
      "id": "a9378e93",
      "metadata": {
        "id": "a9378e93"
      },
      "outputs": [],
      "source": [
        "from openai import OpenAI\n",
        "\n",
        "book_metadata =  {\n",
        "        \"title\": \"The Great Gatsby\",\n",
        "        \"author\" : \"F. Scott Fitzgerald\",\n",
        "        \"source_url\": \"https://www.gutenberg.org/cache/epub/64317/pg64317.txt\",\n",
        "        \"filename\": \"pg64317.txt\"\n",
        "  }"
      ]
    },
    {
      "cell_type": "code",
      "execution_count": 9,
      "id": "b318baec",
      "metadata": {
        "deletable": false,
        "tags": [
          "cp1"
        ],
        "id": "b318baec"
      },
      "outputs": [],
      "source": [
        "client_openai = OpenAI(config.RAG_API_KEY)\n",
        "\n",
        "#passing 2 dictionaries in messages because this is a convo between a system and a user\n",
        "def get_completion(prompt):\n",
        "    response = client_openai.chat.completions.create(\n",
        "        model= \"gpt-4\",\n",
        "        messages=[\n",
        "            {\"role\":\"system\", \"content\": \"You're a helpful assistant who retrieves information from external sources and presents them to the user.\"},\n",
        "            {\"role\": \"user\", \"content\": prompt},\n",
        "        ]\n",
        "    )\n",
        "    return response.choices[0].message.content\n"
      ]
    },
    {
      "cell_type": "markdown",
      "id": "a4460c1d",
      "metadata": {
        "id": "a4460c1d"
      },
      "source": [
        "#### Chunking the Document\n",
        "\n",
        "In the next cell,\n",
        "I am preparing the book and initializing a recursive text splitter and create chunks of our text with it.\n",
        "\n"
      ]
    },
    {
      "cell_type": "code",
      "execution_count": 10,
      "id": "188e995d",
      "metadata": {
        "id": "188e995d"
      },
      "outputs": [],
      "source": [
        "import requests"
      ]
    },
    {
      "cell_type": "code",
      "execution_count": 11,
      "id": "7db039ed",
      "metadata": {
        "id": "7db039ed"
      },
      "outputs": [],
      "source": [
        "r = requests.get(r'https://www.gutenberg.org/cache/epub/64317/pg64317.txt')\n",
        "great_gatsby = r.text"
      ]
    },
    {
      "cell_type": "code",
      "execution_count": 12,
      "id": "3aac44ee",
      "metadata": {
        "colab": {
          "base_uri": "https://localhost:8080/"
        },
        "id": "3aac44ee",
        "outputId": "488764ae-a7d8-404e-bd0e-8f62c4ae97be"
      },
      "outputs": [
        {
          "output_type": "stream",
          "name": "stdout",
          "text": [
            "as Parke d’Invilliers\r\n",
            "\r\n",
            "\r\n",
            "                                  I\r\n",
            "\r\n",
            "In my younger and more vulnerable years my father gave me some advice\r\n",
            "that I’ve been turning over in my mind ever since.\r\n",
            "\r\n",
            "“Whenever you feel like criticizing anyone,” he told me, “just\r\n",
            "remember that all the people in this world haven’t had the advantages\r\n",
            "that you’ve had.”\r\n",
            "\r\n",
            "He didn’t say any more, but we’ve always been unusually communicative\r\n",
            "in a reserved way, and I understood that he meant a great deal more\r\n",
            "than that. In\n"
          ]
        }
      ],
      "source": [
        "great_gatsby = great_gatsby[1433:277912] #books w/o any footnotes\n",
        "print(great_gatsby[:500]) #checking it"
      ]
    },
    {
      "cell_type": "code",
      "execution_count": 13,
      "id": "3c479992",
      "metadata": {
        "id": "3c479992"
      },
      "outputs": [],
      "source": [
        "#examples of chunk size and chunk overlap\n",
        "text_splitter = RecursiveCharacterTextSplitter(\n",
        "    separators=[\". \", \"? \", \"! \"],\n",
        "    chunk_size=2000,\n",
        "    chunk_overlap=300,\n",
        ")\n",
        "\n",
        "\n",
        "chunks_gatsby = text_splitter.create_documents([great_gatsby])\n",
        "\n"
      ]
    },
    {
      "cell_type": "code",
      "execution_count": 14,
      "id": "7831ca03",
      "metadata": {
        "colab": {
          "base_uri": "https://localhost:8080/"
        },
        "id": "7831ca03",
        "outputId": "94414b92-0ded-4ec0-8fa6-0340bb6aa0ae"
      },
      "outputs": [
        {
          "output_type": "stream",
          "name": "stdout",
          "text": [
            " 'The Great Gatsby' - First Chunk:\n",
            "as Parke d’Invilliers\r\n",
            "\r\n",
            "\r\n",
            "                                  I\r\n",
            "\r\n",
            "In my younger and more vulnerable years my father gave me some advice\r\n",
            "that I’ve been turning over in my mind ever since.\r\n",
            "\r\n",
            "“Whenever you feel like criticizing anyone,” he told me, “just\r\n",
            "remember that all the people in this world haven’t had the advantages\r\n",
            "that you’ve had.”\r\n",
            "\r\n",
            "He didn’t say any more, but we’ve always been unusually communicative\r\n",
            "in a reserved way, and I understood that he meant a great deal more\r\n",
            "than that. In consequence, I’m inclined to reserve all judgements, a\r\n",
            "habit that has opened up many curious natures to me and also made me\r\n",
            "the victim of not a few veteran bores. The abnormal mind is quick to\r\n",
            "detect and attach itself to this quality when it appears in a normal\r\n",
            "person, and so it came about that in college I was unjustly accused of\r\n",
            "being a politician, because I was privy to the secret griefs of wild,\r\n",
            "unknown men. Most of the confidences were unsought—frequently I have\r\n",
            "feigned sleep, preoccupation, or a hostile levity when I realized by\r\n",
            "some unmistakable sign that an intimate revelation was quivering on\r\n",
            "the horizon; for the intimate revelations of young men, or at least\r\n",
            "the terms in which they express them, are usually plagiaristic and\r\n",
            "marred by obvious suppressions. Reserving judgements is a matter of\r\n",
            "infinite hope. I am still a little afraid of missing something if I\r\n",
            "forget that, as my father snobbishly suggested, and I snobbishly\r\n",
            "repeat, a sense of the fundamental decencies is parcelled out\r\n",
            "unequally at birth.\r\n",
            "\r\n",
            "And, after boasting this way of my tolerance, I come to the admission\r\n",
            "that it has a limit. Conduct may be founded on the hard rock or the\r\n",
            "wet marshes, but after a certain point I don’t care what it’s founded\r\n",
            "on. When I came back from the East last autumn I felt that I wanted\r\n",
            "the world to be in uniform and at a sort of moral attention forever; I\r\n",
            "wanted no more riotous excursions with privileged glimpses into the\r\n",
            "human heart\n",
            "\n"
          ]
        }
      ],
      "source": [
        "print(f\" 'The Great Gatsby' - First Chunk:\\n{chunks_gatsby[0].page_content}\\n\")"
      ]
    },
    {
      "cell_type": "markdown",
      "id": "6a172e5e",
      "metadata": {
        "id": "6a172e5e"
      },
      "source": [
        "Now let's create a new persistent Chroma collection.\n",
        "\n",
        "Use Chroma's `.PersistentClient()` method to initialize a database that will persist throughout the program. Pass the method the desired route to the collection, `\"./advanced\"`.\n",
        "\n",
        "Then use the Chroma client's `.get_or_create_collection()` method. Pass the method the `name` `\"advanced\"` and indicate i ll use cosine similarity with `metadata={\"hnsw:space\": \"cosine\"}`.\n"
      ]
    },
    {
      "cell_type": "code",
      "execution_count": 15,
      "id": "e73ed471",
      "metadata": {
        "deletable": false,
        "tags": [
          "cp2"
        ],
        "colab": {
          "base_uri": "https://localhost:8080/"
        },
        "id": "e73ed471",
        "outputId": "0d0a7d20-f639-4447-8ce6-6c0982d088fd"
      },
      "outputs": [
        {
          "output_type": "stream",
          "name": "stdout",
          "text": [
            "ChromaDB collection ['advanced']\n"
          ]
        }
      ],
      "source": [
        "client_chroma = chromadb.PersistentClient(path=\"./advanced\")\n",
        "collection = client_chroma.get_or_create_collection(name = \"advanced\", metadata = {\"hnsw:space\": \"cosine\"})\n",
        "#verifying my collection\n",
        "print(f\"ChromaDB collection {client_chroma.list_collections()}\")"
      ]
    },
    {
      "cell_type": "markdown",
      "id": "7bebeb1b",
      "metadata": {
        "id": "7bebeb1b"
      },
      "source": [
        "#### Uploading the chunks\n",
        "\n",
        "Now that my collection is initialized I can upload to it the chunks I made earlier.\n"
      ]
    },
    {
      "cell_type": "code",
      "execution_count": 16,
      "id": "eb3785ab",
      "metadata": {
        "colab": {
          "base_uri": "https://localhost:8080/"
        },
        "id": "eb3785ab",
        "outputId": "cc745c69-25c2-4128-8951-5007e826e9ba"
      },
      "outputs": [
        {
          "output_type": "stream",
          "name": "stderr",
          "text": [
            "/root/.cache/chroma/onnx_models/all-MiniLM-L6-v2/onnx.tar.gz: 100%|██████████| 79.3M/79.3M [00:02<00:00, 28.4MiB/s]\n"
          ]
        }
      ],
      "source": [
        "#N = 150 #this was done because my kernel died persistently locally\n",
        "#but in googlecollab everything is fine :)\n",
        "\n",
        "\n",
        "for idx, chunk in enumerate(chunks_gatsby): #enumerating through a list of chunks\n",
        "    doc_text = chunk.page_content #access the chunk's text\n",
        "    book_metadata[\"chunk_idx\"] = idx\n",
        "    collection.add(\n",
        "        documents=[doc_text],\n",
        "        ids=[f\"{book_metadata['title']}_{idx}\"],\n",
        "        metadatas=[book_metadata]\n",
        "    )\n",
        "#then adding a chunk index to its metadata and uploading the document, its id, and its metadata to Chroma collection."
      ]
    },
    {
      "cell_type": "markdown",
      "id": "d72500dc",
      "metadata": {
        "id": "d72500dc"
      },
      "source": [
        "#### Formatting the search results\n",
        "Now let's define a helper function that takes a **user query** and returns a **well-formatted, pseudo-XML string of the search results**. This will make it easier to experiment"
      ]
    },
    {
      "cell_type": "code",
      "execution_count": 17,
      "id": "8a02d30e",
      "metadata": {
        "id": "8a02d30e"
      },
      "outputs": [],
      "source": [
        "def populate_rag_query(query, n_results=1):\n",
        "    search_results = collection.query(query_texts=[query], n_results=n_results)\n",
        "    result_str = \"\"\n",
        "    for idx, result in enumerate(search_results[\"documents\"][0]):\n",
        "        metadata = search_results[\"metadatas\"][0][idx]\n",
        "        formatted_result = f\"\"\"<SEARCH RESULT>\n",
        "        <DOCUMENT>{result}</DOCUMENT>\n",
        "        <METADATA>\n",
        "        <TITLE>{metadata['title']}</TITLE>\n",
        "        <AUTHOR>{metadata['author']}</AUTHOR>\n",
        "        <CHUNK_IDX>{metadata['chunk_idx']}</CHUNK_IDX>\n",
        "        <URL>{metadata['source_url']}</URL>\n",
        "        </METADATA>\n",
        "        </SEARCH RESULT>\"\"\"\n",
        "        result_str += formatted_result\n",
        "    return result_str"
      ]
    },
    {
      "cell_type": "markdown",
      "id": "8d481799",
      "metadata": {
        "id": "8d481799"
      },
      "source": [
        "Finally, create the RAG prompt to send to the LLM.\n",
        "\n",
        "In the `<INSTRUCTIONS>` section, we need to consider how we might guide the model to:\n",
        " - Use the search results effectively\n",
        " - Handle cases where information isn't available\n",
        " - Provide credibility to its answers by citing sources\n",
        "\n",
        "In the  `<EXAMPLE CITATION>`, we  can show the model how its cited sources should look\n",
        "\n",
        "To wrap it up, we then pass the correct variables in the `<USER QUERY>` and `<SEARCH RESULTS>` sections to finish the function.\n",
        "\n"
      ]
    },
    {
      "cell_type": "code",
      "execution_count": 18,
      "id": "4ddf801b",
      "metadata": {
        "deletable": false,
        "tags": [
          "cp3"
        ],
        "id": "4ddf801b"
      },
      "outputs": [],
      "source": [
        "def make_rag_prompt(query, results):\n",
        "    return f\"\"\"<INSTRUCTIONS>\n",
        "   <EXAMPLE CITATION>\n",
        "   Answer to the user query in your own words, drawn from the search results.\n",
        "   - \"Direct quote from source material backing up the claim\" - [Source: Title, Author, Chunk: chunk index, Link: url]\n",
        "   </EXAMPLE CITATION>\n",
        "   </INSTRUCTIONS>\n",
        "\n",
        "    <USER QUERY>\n",
        "    {query}\n",
        "    </USER QUERY>\n",
        "\n",
        "    <SEARCH RESULTS>\n",
        "    {results}\n",
        "    </SEARCH RESULTS>\n",
        "\n",
        "    Your answer:\"\"\""
      ]
    },
    {
      "cell_type": "code",
      "source": [
        "#get method is used to retrieve info from a collection\n",
        "\n",
        "collection.get('The Great Gatsby_10')"
      ],
      "metadata": {
        "colab": {
          "base_uri": "https://localhost:8080/"
        },
        "id": "uP7k7XmBEhvA",
        "outputId": "81424c8f-47d1-4498-b05f-0e503741b5a7"
      },
      "id": "uP7k7XmBEhvA",
      "execution_count": 19,
      "outputs": [
        {
          "output_type": "execute_result",
          "data": {
            "text/plain": [
              "{'ids': ['The Great Gatsby_10'],\n",
              " 'embeddings': None,\n",
              " 'documents': ['. Her grey sun-strained eyes looked\\r\\nback at me with polite reciprocal curiosity out of a wan, charming,\\r\\ndiscontented face. It occurred to me now that I had seen her, or a\\r\\npicture of her, somewhere before.\\r\\n\\r\\n“You live in West Egg,” she remarked contemptuously. “I know somebody\\r\\nthere.”\\r\\n\\r\\n“I don’t know a single—”\\r\\n\\r\\n“You must know Gatsby.”\\r\\n\\r\\n“Gatsby?” demanded Daisy. “What Gatsby?”\\r\\n\\r\\nBefore I could reply that he was my neighbour dinner was announced;\\r\\nwedging his tense arm imperatively under mine, Tom Buchanan compelled\\r\\nme from the room as though he were moving a checker to another square.\\r\\n\\r\\nSlenderly, languidly, their hands set lightly on their hips, the two\\r\\nyoung women preceded us out on to a rosy-coloured porch, open toward\\r\\nthe sunset, where four candles flickered on the table in the\\r\\ndiminished wind.\\r\\n\\r\\n“Why candles?” objected Daisy, frowning. She snapped them out with her\\r\\nfingers. “In two weeks it’ll be the longest day in the year.” She\\r\\nlooked at us all radiantly. “Do you always watch for the longest day\\r\\nof the year and then miss it? I always watch for the longest day in\\r\\nthe year and then miss it.”\\r\\n\\r\\n“We ought to plan something,” yawned Miss Baker, sitting down at the\\r\\ntable as if she were getting into bed.\\r\\n\\r\\n“All right,” said Daisy. “What’ll we plan?” She turned to me\\r\\nhelplessly: “What do people plan?”\\r\\n\\r\\nBefore I could answer her eyes fastened with an awed expression on her\\r\\nlittle finger.\\r\\n\\r\\n“Look!” she complained; “I hurt it.”\\r\\n\\r\\nWe all looked—the knuckle was black and blue.\\r\\n\\r\\n“You did it, Tom,” she said accusingly. “I know you didn’t mean to,\\r\\nbut you did do it'],\n",
              " 'uris': None,\n",
              " 'data': None,\n",
              " 'metadatas': [{'author': 'F. Scott Fitzgerald',\n",
              "   'chunk_idx': 10,\n",
              "   'filename': 'pg64317.txt',\n",
              "   'source_url': 'https://www.gutenberg.org/cache/epub/64317/pg64317.txt',\n",
              "   'title': 'The Great Gatsby'}],\n",
              " 'included': [<IncludeEnum.documents: 'documents'>,\n",
              "  <IncludeEnum.metadatas: 'metadatas'>]}"
            ]
          },
          "metadata": {},
          "execution_count": 19
        }
      ]
    },
    {
      "cell_type": "code",
      "source": [
        "collection.get(where={\"chunk_idx\": { \"$eq\":151}})\n",
        "#with the unexistent id and it will return everything empty"
      ],
      "metadata": {
        "colab": {
          "base_uri": "https://localhost:8080/"
        },
        "id": "1GEcH-vSIMZf",
        "outputId": "c0a4c3e4-d5d2-4296-a102-f795e6a33d6d"
      },
      "id": "1GEcH-vSIMZf",
      "execution_count": 20,
      "outputs": [
        {
          "output_type": "execute_result",
          "data": {
            "text/plain": [
              "{'ids': ['The Great Gatsby_151'],\n",
              " 'embeddings': None,\n",
              " 'documents': ['. “How about saying you’ll come?”\\r\\n\\r\\n“Well, the fact is—the truth of the matter is that I’m staying with\\r\\nsome people up here in Greenwich, and they rather expect me to be with\\r\\nthem tomorrow. In fact, there’s a sort of picnic or something. Of\\r\\ncourse I’ll do my best to get away.”\\r\\n\\r\\nI ejaculated an unrestrained “Huh!” and he must have heard me, for he\\r\\nwent on nervously:\\r\\n\\r\\n“What I called up about was a pair of shoes I left there. I wonder if\\r\\nit’d be too much trouble to have the butler send them on. You see,\\r\\nthey’re tennis shoes, and I’m sort of helpless without them. My\\r\\naddress is care of B. F.—”\\r\\n\\r\\nI didn’t hear the rest of the name, because I hung up the receiver.\\r\\n\\r\\nAfter that I felt a certain shame for Gatsby—one gentleman to whom I\\r\\ntelephoned implied that he had got what he deserved. However, that was\\r\\nmy fault, for he was one of those who used to sneer most bitterly at\\r\\nGatsby on the courage of Gatsby’s liquor, and I should have known\\r\\nbetter than to call him.\\r\\n\\r\\nThe morning of the funeral I went up to New York to see Meyer\\r\\nWolfshiem; I couldn’t seem to reach him any other way. The door that I\\r\\npushed open, on the advice of an elevator boy, was marked “The\\r\\nSwastika Holding Company,” and at first there didn’t seem to be anyone\\r\\ninside. But when I’d shouted “hello” several times in vain, an\\r\\nargument broke out behind a partition, and presently a lovely Jewess\\r\\nappeared at an interior door and scrutinized me with black hostile\\r\\neyes.\\r\\n\\r\\n“Nobody’s in,” she said. “Mr. Wolfshiem’s gone to Chicago.”\\r\\n\\r\\nThe first part of this was obviously untrue, for someone had begun to\\r\\nwhistle “The Rosary,” tunelessly, inside.\\r\\n\\r\\n“Please say that Mr. Carraway wants to see him.”\\r\\n\\r\\n“I can’t get him back from Chicago, can I?”\\r\\n\\r\\nAt this moment a voice, unmistakably Wolfshiem’s, called “Stella!”\\r\\nfrom the other side of the door.\\r\\n\\r\\n“Leave your name on the desk,” she said quickly'],\n",
              " 'uris': None,\n",
              " 'data': None,\n",
              " 'metadatas': [{'author': 'F. Scott Fitzgerald',\n",
              "   'chunk_idx': 151,\n",
              "   'filename': 'pg64317.txt',\n",
              "   'source_url': 'https://www.gutenberg.org/cache/epub/64317/pg64317.txt',\n",
              "   'title': 'The Great Gatsby'}],\n",
              " 'included': [<IncludeEnum.documents: 'documents'>,\n",
              "  <IncludeEnum.metadatas: 'metadatas'>]}"
            ]
          },
          "metadata": {},
          "execution_count": 20
        }
      ]
    },
    {
      "cell_type": "code",
      "source": [
        "collection.get(where={\"chunk_idx\": { \"$eq\":10}})\n",
        "#another way of getting info from the collection"
      ],
      "metadata": {
        "colab": {
          "base_uri": "https://localhost:8080/"
        },
        "id": "YsmCFDzwI5y7",
        "outputId": "a92e5dcc-6c0d-455e-ca40-1194393f2777"
      },
      "id": "YsmCFDzwI5y7",
      "execution_count": 21,
      "outputs": [
        {
          "output_type": "execute_result",
          "data": {
            "text/plain": [
              "{'ids': ['The Great Gatsby_10'],\n",
              " 'embeddings': None,\n",
              " 'documents': ['. Her grey sun-strained eyes looked\\r\\nback at me with polite reciprocal curiosity out of a wan, charming,\\r\\ndiscontented face. It occurred to me now that I had seen her, or a\\r\\npicture of her, somewhere before.\\r\\n\\r\\n“You live in West Egg,” she remarked contemptuously. “I know somebody\\r\\nthere.”\\r\\n\\r\\n“I don’t know a single—”\\r\\n\\r\\n“You must know Gatsby.”\\r\\n\\r\\n“Gatsby?” demanded Daisy. “What Gatsby?”\\r\\n\\r\\nBefore I could reply that he was my neighbour dinner was announced;\\r\\nwedging his tense arm imperatively under mine, Tom Buchanan compelled\\r\\nme from the room as though he were moving a checker to another square.\\r\\n\\r\\nSlenderly, languidly, their hands set lightly on their hips, the two\\r\\nyoung women preceded us out on to a rosy-coloured porch, open toward\\r\\nthe sunset, where four candles flickered on the table in the\\r\\ndiminished wind.\\r\\n\\r\\n“Why candles?” objected Daisy, frowning. She snapped them out with her\\r\\nfingers. “In two weeks it’ll be the longest day in the year.” She\\r\\nlooked at us all radiantly. “Do you always watch for the longest day\\r\\nof the year and then miss it? I always watch for the longest day in\\r\\nthe year and then miss it.”\\r\\n\\r\\n“We ought to plan something,” yawned Miss Baker, sitting down at the\\r\\ntable as if she were getting into bed.\\r\\n\\r\\n“All right,” said Daisy. “What’ll we plan?” She turned to me\\r\\nhelplessly: “What do people plan?”\\r\\n\\r\\nBefore I could answer her eyes fastened with an awed expression on her\\r\\nlittle finger.\\r\\n\\r\\n“Look!” she complained; “I hurt it.”\\r\\n\\r\\nWe all looked—the knuckle was black and blue.\\r\\n\\r\\n“You did it, Tom,” she said accusingly. “I know you didn’t mean to,\\r\\nbut you did do it'],\n",
              " 'uris': None,\n",
              " 'data': None,\n",
              " 'metadatas': [{'author': 'F. Scott Fitzgerald',\n",
              "   'chunk_idx': 10,\n",
              "   'filename': 'pg64317.txt',\n",
              "   'source_url': 'https://www.gutenberg.org/cache/epub/64317/pg64317.txt',\n",
              "   'title': 'The Great Gatsby'}],\n",
              " 'included': [<IncludeEnum.documents: 'documents'>,\n",
              "  <IncludeEnum.metadatas: 'metadatas'>]}"
            ]
          },
          "metadata": {},
          "execution_count": 21
        }
      ]
    },
    {
      "cell_type": "markdown",
      "source": [
        "# Decoupling\n",
        "what is decoupling? it is the process when we seperate the query embedding from the returned search results\n",
        "\n",
        "Why?\n",
        "we make sure that these two parts can be optimized separately. This is good for perfomance as our **retrieval** model will focus entirely on finding the most relevant search results, and the **generation** model can focus on generating \"good\" responses based on the retrieved data"
      ],
      "metadata": {
        "id": "fVuJVd-qUIWw"
      },
      "id": "fVuJVd-qUIWw"
    },
    {
      "cell_type": "code",
      "source": [
        "#this function takes a chunk index of the retrieved search results\n",
        "#then it return the previous and next chunks\n",
        "def get_next_and_previous_chunks(chunk_idx):\n",
        "  previous_chunk = collection.get(where = {\"chunk_idx\": {\"$eq\": chunk_idx - 1}})\n",
        "  next_chunk =  collection.get(where = {\"chunk_idx\": {\"$eq\": chunk_idx + 1}})\n",
        " #passing chunk_idx to the where argument\n",
        "\n",
        "  return previous_chunk, next_chunk"
      ],
      "metadata": {
        "id": "kG0ylDzuJLkq"
      },
      "id": "kG0ylDzuJLkq",
      "execution_count": 22,
      "outputs": []
    },
    {
      "cell_type": "code",
      "source": [
        "#this function accepts the original chink and returns a string of search reuslts for the previous, current, and next chunks\n",
        "def expanded_search_results(original_chunk):\n",
        "    original_chunk_idx = original_chunk[\"metadatas\"][0][\"chunk_idx\"]\n",
        "    previous_chunk, next_chunk = get_next_and_previous_chunks(original_chunk_idx)\n",
        "    result_str = \"\"\n",
        "    for chunk in [previous_chunk, original_chunk, next_chunk]:\n",
        "        if len(chunk[\"metadatas\"])>0:\n",
        "            metadata = chunk[\"metadatas\"][0]\n",
        "            formatted_result = f\"\"\"<SEARCH RESULT>\n",
        "            <DOCUMENT>{chunk[\"documents\"][0]}</DOCUMENT>\n",
        "            <METADATA>\n",
        "            <TITLE>{metadata[\"title\"]}</TITLE>\n",
        "            <AUTHOR>{metadata[\"author\"]}</AUTHOR>\n",
        "            <CHUNK_IDX>{metadata[\"chunk_idx\"]}</CHUNK_IDX>\n",
        "            <URL>{metadata[\"source_url\"]}</URL>\n",
        "            </METADATA>\n",
        "            </SEARCH RESULT>\"\"\"\n",
        "            result_str += formatted_result\n",
        "    return result_str\n",
        "original_demo_chunk = collection.get(where={\"chunk_idx\": {\"$eq\": 10}})\n",
        "print(\"Let's see what we have \")\n",
        "expanded_results = expanded_search_results(original_demo_chunk)\n",
        "print(expanded_results)"
      ],
      "metadata": {
        "colab": {
          "base_uri": "https://localhost:8080/"
        },
        "id": "BogpsatyLKyD",
        "outputId": "9b6b6284-c476-46f5-cd91-17da64a1e5ac"
      },
      "id": "BogpsatyLKyD",
      "execution_count": 25,
      "outputs": [
        {
          "output_type": "stream",
          "name": "stdout",
          "text": [
            "Let's see what we have \n",
            "<SEARCH RESULT>\n",
            "            <DOCUMENT>. Tomorrow!” Then she added\r\n",
            "irrelevantly: “You ought to see the baby.”\r\n",
            "\r\n",
            "“I’d like to.”\r\n",
            "\r\n",
            "“She’s asleep. She’s three years old. Haven’t you ever seen her?”\r\n",
            "\r\n",
            "“Never.”\r\n",
            "\r\n",
            "“Well, you ought to see her. She’s—”\r\n",
            "\r\n",
            "Tom Buchanan, who had been hovering restlessly about the room, stopped\r\n",
            "and rested his hand on my shoulder.\r\n",
            "\r\n",
            "“What you doing, Nick?”\r\n",
            "\r\n",
            "“I’m a bond man.”\r\n",
            "\r\n",
            "“Who with?”\r\n",
            "\r\n",
            "I told him.\r\n",
            "\r\n",
            "“Never heard of them,” he remarked decisively.\r\n",
            "\r\n",
            "This annoyed me.\r\n",
            "\r\n",
            "“You will,” I answered shortly. “You will if you stay in the East.”\r\n",
            "\r\n",
            "“Oh, I’ll stay in the East, don’t you worry,” he said, glancing at\r\n",
            "Daisy and then back at me, as if he were alert for something\r\n",
            "more. “I’d be a God damned fool to live anywhere else.”\r\n",
            "\r\n",
            "At this point Miss Baker said: “Absolutely!” with such suddenness that\r\n",
            "I started—it was the first word she had uttered since I came into the\r\n",
            "room. Evidently it surprised her as much as it did me, for she yawned\r\n",
            "and with a series of rapid, deft movements stood up into the room.\r\n",
            "\r\n",
            "“I’m stiff,” she complained, “I’ve been lying on that sofa for as long\r\n",
            "as I can remember.”\r\n",
            "\r\n",
            "“Don’t look at me,” Daisy retorted, “I’ve been trying to get you to\r\n",
            "New York all afternoon.”\r\n",
            "\r\n",
            "“No, thanks,” said Miss Baker to the four cocktails just in from the\r\n",
            "pantry. “I’m absolutely in training.”\r\n",
            "\r\n",
            "Her host looked at her incredulously.\r\n",
            "\r\n",
            "“You are!” He took down his drink as if it were a drop in the bottom\r\n",
            "of a glass. “How you ever get anything done is beyond me.”\r\n",
            "\r\n",
            "I looked at Miss Baker, wondering what it was she “got done.” I\r\n",
            "enjoyed looking at her. She was a slender, small-breasted girl, with\r\n",
            "an erect carriage, which she accentuated by throwing her body backward\r\n",
            "at the shoulders like a young cadet. Her grey sun-strained eyes looked\r\n",
            "back at me with polite reciprocal curiosity out of a wan, charming,\r\n",
            "discontented face. It occurred to me now that I had seen her, or a\r\n",
            "picture of her, somewhere before.\r\n",
            "\r\n",
            "“You live in West Egg,” she remarked contemptuously</DOCUMENT>\n",
            "            <METADATA>\n",
            "            <TITLE>The Great Gatsby</TITLE>\n",
            "            <AUTHOR>F. Scott Fitzgerald</AUTHOR>\n",
            "            <CHUNK_IDX>9</CHUNK_IDX>\n",
            "            <URL>https://www.gutenberg.org/cache/epub/64317/pg64317.txt</URL>\n",
            "            </METADATA>\n",
            "            </SEARCH RESULT><SEARCH RESULT>\n",
            "            <DOCUMENT>. Her grey sun-strained eyes looked\r\n",
            "back at me with polite reciprocal curiosity out of a wan, charming,\r\n",
            "discontented face. It occurred to me now that I had seen her, or a\r\n",
            "picture of her, somewhere before.\r\n",
            "\r\n",
            "“You live in West Egg,” she remarked contemptuously. “I know somebody\r\n",
            "there.”\r\n",
            "\r\n",
            "“I don’t know a single—”\r\n",
            "\r\n",
            "“You must know Gatsby.”\r\n",
            "\r\n",
            "“Gatsby?” demanded Daisy. “What Gatsby?”\r\n",
            "\r\n",
            "Before I could reply that he was my neighbour dinner was announced;\r\n",
            "wedging his tense arm imperatively under mine, Tom Buchanan compelled\r\n",
            "me from the room as though he were moving a checker to another square.\r\n",
            "\r\n",
            "Slenderly, languidly, their hands set lightly on their hips, the two\r\n",
            "young women preceded us out on to a rosy-coloured porch, open toward\r\n",
            "the sunset, where four candles flickered on the table in the\r\n",
            "diminished wind.\r\n",
            "\r\n",
            "“Why candles?” objected Daisy, frowning. She snapped them out with her\r\n",
            "fingers. “In two weeks it’ll be the longest day in the year.” She\r\n",
            "looked at us all radiantly. “Do you always watch for the longest day\r\n",
            "of the year and then miss it? I always watch for the longest day in\r\n",
            "the year and then miss it.”\r\n",
            "\r\n",
            "“We ought to plan something,” yawned Miss Baker, sitting down at the\r\n",
            "table as if she were getting into bed.\r\n",
            "\r\n",
            "“All right,” said Daisy. “What’ll we plan?” She turned to me\r\n",
            "helplessly: “What do people plan?”\r\n",
            "\r\n",
            "Before I could answer her eyes fastened with an awed expression on her\r\n",
            "little finger.\r\n",
            "\r\n",
            "“Look!” she complained; “I hurt it.”\r\n",
            "\r\n",
            "We all looked—the knuckle was black and blue.\r\n",
            "\r\n",
            "“You did it, Tom,” she said accusingly. “I know you didn’t mean to,\r\n",
            "but you did do it</DOCUMENT>\n",
            "            <METADATA>\n",
            "            <TITLE>The Great Gatsby</TITLE>\n",
            "            <AUTHOR>F. Scott Fitzgerald</AUTHOR>\n",
            "            <CHUNK_IDX>10</CHUNK_IDX>\n",
            "            <URL>https://www.gutenberg.org/cache/epub/64317/pg64317.txt</URL>\n",
            "            </METADATA>\n",
            "            </SEARCH RESULT><SEARCH RESULT>\n",
            "            <DOCUMENT>. “I know you didn’t mean to,\r\n",
            "but you did do it. That’s what I get for marrying a brute of a man, a\r\n",
            "great, big, hulking physical specimen of a—”\r\n",
            "\r\n",
            "“I hate that word ‘hulking,’ ” objected Tom crossly, “even in\r\n",
            "kidding.”\r\n",
            "\r\n",
            "“Hulking,” insisted Daisy.\r\n",
            "\r\n",
            "Sometimes she and Miss Baker talked at once, unobtrusively and with a\r\n",
            "bantering inconsequence that was never quite chatter, that was as cool\r\n",
            "as their white dresses and their impersonal eyes in the absence of all\r\n",
            "desire. They were here, and they accepted Tom and me, making only a\r\n",
            "polite pleasant effort to entertain or to be entertained. They knew\r\n",
            "that presently dinner would be over and a little later the evening too\r\n",
            "would be over and casually put away. It was sharply different from the\r\n",
            "West, where an evening was hurried from phase to phase towards its\r\n",
            "close, in a continually disappointed anticipation or else in sheer\r\n",
            "nervous dread of the moment itself.\r\n",
            "\r\n",
            "“You make me feel uncivilized, Daisy,” I confessed on my second glass\r\n",
            "of corky but rather impressive claret. “Can’t you talk about crops or\r\n",
            "something?”\r\n",
            "\r\n",
            "I meant nothing in particular by this remark, but it was taken up in\r\n",
            "an unexpected way.\r\n",
            "\r\n",
            "“Civilization’s going to pieces,” broke out Tom violently. “I’ve\r\n",
            "gotten to be a terrible pessimist about things. Have you read The Rise\r\n",
            "of the Coloured Empires by this man Goddard?”\r\n",
            "\r\n",
            "“Why, no,” I answered, rather surprised by his tone.\r\n",
            "\r\n",
            "“Well, it’s a fine book, and everybody ought to read it. The idea is\r\n",
            "if we don’t look out the white race will be—will be utterly\r\n",
            "submerged. It’s all scientific stuff; it’s been proved.”\r\n",
            "\r\n",
            "“Tom’s getting very profound,” said Daisy, with an expression of\r\n",
            "unthoughtful sadness. “He reads deep books with long words in\r\n",
            "them. What was that word we—”\r\n",
            "\r\n",
            "“Well, these books are all scientific,” insisted Tom, glancing at her\r\n",
            "impatiently. “This fellow has worked out the whole thing</DOCUMENT>\n",
            "            <METADATA>\n",
            "            <TITLE>The Great Gatsby</TITLE>\n",
            "            <AUTHOR>F. Scott Fitzgerald</AUTHOR>\n",
            "            <CHUNK_IDX>11</CHUNK_IDX>\n",
            "            <URL>https://www.gutenberg.org/cache/epub/64317/pg64317.txt</URL>\n",
            "            </METADATA>\n",
            "            </SEARCH RESULT>\n"
          ]
        }
      ]
    },
    {
      "cell_type": "code",
      "source": [
        "def make_decoupled_rag_prompt(query, n_results=1):\n",
        "\n",
        "    search_results = collection.query(query_texts=[query], n_results=n_results)\n",
        "    total_result_str = \"\"\n",
        "    for doc, metadata in zip(search_results['documents'][0], search_results['metadatas'][0]):\n",
        "        chunk = {\n",
        "            'documents': [doc],\n",
        "            'metadatas': [metadata]\n",
        "        }\n",
        "\n",
        "        expanded_result = expanded_search_results(chunk)\n",
        "        total_result_str += expanded_result\n",
        "        rag_prompt = make_rag_prompt(query, total_result_str)\n",
        "    return rag_prompt\n",
        "\n",
        "# given a search result, we can get everything back in a formatted string\n",
        "prompt = make_decoupled_rag_prompt(\"How are West Egg and East Egg different?\")\n",
        "rag_completion = get_completion(prompt)\n",
        "print(rag_completion)\n",
        "#\n",
        "\n",
        "prompt_1 = make_decoupled_rag_prompt(\"How does Nick Carraway first meet Jay Gatsby?\")\n",
        "rag_completion_1 = get_completion(prompt_1)\n",
        "print(rag_completion_1)\n",
        "#perfect! if you have read the book, these answers are correct hehe"
      ],
      "metadata": {
        "colab": {
          "base_uri": "https://localhost:8080/"
        },
        "id": "lUmWL0N0PMdO",
        "outputId": "883b10a7-7b1a-4927-a007-314374485772"
      },
      "id": "lUmWL0N0PMdO",
      "execution_count": 26,
      "outputs": [
        {
          "output_type": "stream",
          "name": "stdout",
          "text": [
            "West Egg and East Egg, depicted in F. Scott Fitzgerald's \"The Great Gatsby,\" are two imaginary communities located on Long Island. They differ primarily in terms of social class and societal perception. West Egg is less fashionable and is inhabited by the nouveau riche, or those with newly acquired wealth, marked by their extravagance and lack of established social connections. This is where the narrator lives, as well as Gatsby, whose incredible mansion exemplifies the excesses of the inhabitants. East Egg, on the other hand, is depicted as more fashionable and is populated by older, established wealth. The inhabitants, like the Buchanans, uphold the societal conventions of the upper class. East Egg is characterized by its white palaces glittering along the water, and is the embodiment of elegance and class. - [Source: The Great Gatsby, F. Scott Fitzgerald, Chunk: 4, Link: https://www.gutenberg.org/cache/epub/64317/pg64317.txt]\n",
            "Nick Carraway first meets Jay Gatsby during one of Gatsby's extravagant parties, in which Gatsby had sent over his chauffeur with an invitation to Nick. The two are engaged in a conversation when Gatsby reveals his identity to Nick, who initially thought he was just another guest at the party. After the introduction, Nick expresses surprise because he had expected Gatsby to be an older, more ostentatious man.\n",
            "- \"I’m Gatsby,” he said suddenly. “What!” I exclaimed. “Oh, I beg your pardon.” “I thought you knew, old sport. I’m afraid I’m not a very good host.\" - [Source: The Great Gatsby, F. Scott Fitzgerald, Chunk: 43, Link: https://www.gutenberg.org/cache/epub/64317/pg64317.txt]\n"
          ]
        }
      ]
    },
    {
      "cell_type": "markdown",
      "source": [
        "# Contextual Query Retrieval\n",
        "this improves the retrieval part of the rag process by understanding the context of the convo\n",
        "\n",
        "cqr also takes into the account the whole convo history when fetching relevant info rather than treating each query in isolation\n",
        "\n",
        "why?\n",
        "improving the relevance and coherence of the retrieved data\n",
        "more accurate responses"
      ],
      "metadata": {
        "id": "VSnqxiulYT-2"
      },
      "id": "VSnqxiulYT-2"
    },
    {
      "cell_type": "code",
      "source": [
        "#first create imaginary chat entries\n",
        "#contextual_query relies on the chat history\n",
        "\n",
        "chat_memory = [\n",
        "    {\"role\": \"user\", \"content\": \"How are West Egg and East Egg different?\"},\n",
        "    {\"role\": \"assistant\", \"content\": \"West Egg and East Egg, depicted in F. Scott Fitzgerald's 'The Great Gatsby,' are two imaginary communities located on Long Island. They differ primarily in terms of social class and societal perception. West Egg is less fashionable and is inhabited by the nouveau riche, or those with newly acquired wealth, marked by their extravagance and lack of established social connections. This is where the narrator lives, as well as Gatsby, whose incredible mansion exemplifies the excesses of the inhabitants. East Egg, on the other hand, is depicted as more fashionable and is populated by older, established wealth. The inhabitants, like the Buchanans, uphold the societal conventions of the upper class. East Egg is characterized by its white palaces glittering along the water, and is the embodiment of elegance and class.\"},\n",
        "    {\"role\": \"user\", \"content\": \"How does Gatsby's house look like?\"},\n",
        "    {\"role\": \"assistant\", \"content\": \"The [house] on my right was a colossal affair by any standard–it was a factual imitation of some Hôtel de Ville in Normandy, with a tower on one side, spanking new under a thin beard of raw ivy, and a marble swimming pool and more than forty acres of lawn and garden\"},\n",
        "    {\"role\": \"user\", \"content\": \"Why does Gatsby stop throwing parties?\"},\n",
        "    {\"role\":\"assistant\", \"content\": \"Early in the novel, when Jordan explains Gatsby’s relationship with Daisy to Nick, she says that Gatsby “half-expected [Daisy] to wander into one of his parties, some night.” After Daisy and Tom finally attend one of Gatsby’s parties, Gatsby abruptly stops throwing them, for there no longer is a reason to hold such events. Now that both Daisy and Tom have seen proof of Gatsby’s wealth, he doesn’t feel the need to show it off anymore.\"}\n",
        "    ]\n",
        "\n",
        "contextual_query = \"What was the relationship between Gatsby and Daisy?\""
      ],
      "metadata": {
        "id": "eEJy62h0Y1r3"
      },
      "id": "eEJy62h0Y1r3",
      "execution_count": 27,
      "outputs": []
    },
    {
      "cell_type": "code",
      "source": [
        "#now i need to concatenate the chat history to be easily injected into a preliminary llm prompt\n",
        "\n",
        "chat_history = \"\"\n",
        "\n",
        "for message in chat_memory:\n",
        "  role = message[\"role\"]\n",
        "  content = message[\"content\"]\n",
        "  chat_history += f\"{role}: {content}\\n\\n\"\n",
        "\n",
        "print(\"This is my chat history: \")\n",
        "print(chat_history)"
      ],
      "metadata": {
        "colab": {
          "base_uri": "https://localhost:8080/"
        },
        "id": "y_n4CemfassR",
        "outputId": "f31c2c4a-4a18-4b0e-e3b6-ce259ecfc60c"
      },
      "id": "y_n4CemfassR",
      "execution_count": 28,
      "outputs": [
        {
          "output_type": "stream",
          "name": "stdout",
          "text": [
            "This is my chat history: \n",
            "user: How are West Egg and East Egg different?\n",
            "\n",
            "assistant: West Egg and East Egg, depicted in F. Scott Fitzgerald's 'The Great Gatsby,' are two imaginary communities located on Long Island. They differ primarily in terms of social class and societal perception. West Egg is less fashionable and is inhabited by the nouveau riche, or those with newly acquired wealth, marked by their extravagance and lack of established social connections. This is where the narrator lives, as well as Gatsby, whose incredible mansion exemplifies the excesses of the inhabitants. East Egg, on the other hand, is depicted as more fashionable and is populated by older, established wealth. The inhabitants, like the Buchanans, uphold the societal conventions of the upper class. East Egg is characterized by its white palaces glittering along the water, and is the embodiment of elegance and class.\n",
            "\n",
            "user: How does Gatsby's house look like?\n",
            "\n",
            "assistant: The [house] on my right was a colossal affair by any standard–it was a factual imitation of some Hôtel de Ville in Normandy, with a tower on one side, spanking new under a thin beard of raw ivy, and a marble swimming pool and more than forty acres of lawn and garden\n",
            "\n",
            "user: Why does Gatsby stop throwing parties?\n",
            "\n",
            "assistant: Early in the novel, when Jordan explains Gatsby’s relationship with Daisy to Nick, she says that Gatsby “half-expected [Daisy] to wander into one of his parties, some night.” After Daisy and Tom finally attend one of Gatsby’s parties, Gatsby abruptly stops throwing them, for there no longer is a reason to hold such events. Now that both Daisy and Tom have seen proof of Gatsby’s wealth, he doesn’t feel the need to show it off anymore.\n",
            "\n",
            "\n"
          ]
        }
      ]
    },
    {
      "cell_type": "code",
      "source": [
        "#prompting the model to rewrite the query given its chat context\n",
        "def rewrite_query(query, chat_history):\n",
        "  prompt = f\"\"\"<INSTRUCTIONS>\n",
        "Given the following chat history and the user's latest query, rewrite the query to include relevant context.\n",
        "</INSTRUCTIONS>\n",
        "\n",
        "<CHAT_HISTORY>\n",
        "{chat_history}\n",
        "</CHAT_HISTORY>\n",
        "\n",
        "<LATEST_QUERY>\n",
        "{query}\n",
        "</LATEST_QUERY>\n",
        "\n",
        "Your rewritten query:\"\"\"\n",
        "\n",
        "  return get_completion(prompt)\n",
        "\n",
        "cqr_query = rewrite_query(contextual_query, chat_history)\n",
        "\n",
        "print(\"original query: \")\n",
        "print(contextual_query)\n",
        "print(\"rewritten query: \")\n",
        "print(cqr_query)\n"
      ],
      "metadata": {
        "colab": {
          "base_uri": "https://localhost:8080/"
        },
        "id": "2rRZjjHAbNmX",
        "outputId": "34deafb3-9f2e-454a-f544-61b925cab021"
      },
      "id": "2rRZjjHAbNmX",
      "execution_count": 29,
      "outputs": [
        {
          "output_type": "stream",
          "name": "stdout",
          "text": [
            "original query: \n",
            "What was the relationship between Gatsby and Daisy?\n",
            "rewritten query: \n",
            "Can you describe the relationship between Gatsby and Daisy in 'The Great Gatsby'?\n"
          ]
        }
      ]
    },
    {
      "cell_type": "code",
      "source": [
        "# refine the query using the chat history\n",
        "# 2. refined query is used to populate the search results\n",
        "# 3. convert to a rag prompt\n",
        "#4. send to llm api\n",
        "\n",
        "def perform_cqr_rag(query, chat_history, n_results=2):\n",
        "    refined_query = rewrite_query(query, chat_history)\n",
        "    result_str = populate_rag_query(refined_query, n_results)\n",
        "    rag_prompt = make_rag_prompt(refined_query, result_str)\n",
        "    rag_completion = get_completion(rag_prompt)\n",
        "    return refined_query, rag_completion\n",
        "\n",
        "refined_query, rag_completion = perform_cqr_rag(contextual_query, chat_history)\n",
        "print(rag_completion)\n"
      ],
      "metadata": {
        "colab": {
          "base_uri": "https://localhost:8080/"
        },
        "id": "L5h0cqSkbtne",
        "outputId": "edad9b73-1926-4c0b-c14a-ac0afd65bf41"
      },
      "id": "L5h0cqSkbtne",
      "execution_count": 30,
      "outputs": [
        {
          "output_type": "stream",
          "name": "stdout",
          "text": [
            "The relationship between Gatsby and Daisy in F. Scott Fitzgerald's 'The Great Gatsby' is a complicated one, marked by romance, secrecy, and tension. Gatsby harbors a deep love for Daisy and is invested in keeping their interactions hidden from others, as evidenced by him not wanting Daisy to know about him asking others to invite her to tea. Further evidence of their romantic connection is seen in the intense and profound moment when Daisy tells Gatsby that she loves him, revealing the affection that exists between them. However, this also results in tension as Daisy's husband Tom is present, and visibly startled by this admission, implying a love triangle that complicates the relationship between Daisy and Gatsby. \n",
            "- \"“Does she want to see Gatsby?” / “She’s not to know about it. Gatsby doesn’t want her to know. You’re just supposed to invite her to tea.”\" - [Source: The Great Gatsby, F. Scott Fitzgerald, Chunk: 72, Link: https://www.gutenberg.org/cache/epub/64317/pg64317.txt]\n",
            "- \"She had told him that she loved him, and Tom Buchanan saw. He was astounded. His mouth opened a little, and he looked at Gatsby, and then back at Daisy as if he had just recognized her as someone he knew a long time ago.\" - [Source: The Great Gatsby, F. Scott Fitzgerald, Chunk: 105, Link: https://www.gutenberg.org/cache/epub/64317/pg64317.txt]\n"
          ]
        }
      ]
    },
    {
      "cell_type": "markdown",
      "source": [
        "# Hypothetical document embeddings\n",
        "this is an approach to the retrieval process in rag systems\n",
        "\n",
        "in the standard flow, we embed the user's query directly for similarity search\n",
        "\n",
        "with hyde, we first ask the llm to generate a hypothetical answer based on the query. then, this answer is embedded and used for similarity search\n",
        "\n",
        "why?\n",
        "the model's answer often contains terms that are likely to appear in relevant doc chunks, potnetially leading to more accurate retrievals than the orig query alone"
      ],
      "metadata": {
        "id": "JVo8WEDvdD25"
      },
      "id": "JVo8WEDvdD25"
    },
    {
      "cell_type": "code",
      "source": [
        "#first, create a prompt that will generate a hypothetical doc\n",
        "def make_hyde_prompt(query):\n",
        "  return f\"\"\"<INSTRUCTIONS>\n",
        "You are given the user's query. First, try to answer the query on your own. If the answer is not in your database, imitate the answer like you know it. Think of the language that might appear in the actual answers, and use it. Finally, the size of your answer should be a paragraph long.\n",
        "</INSTRUCTIONS>\n",
        "\n",
        "<QUERY>{query}</QUERY>\n",
        "\"\"\"\n"
      ],
      "metadata": {
        "id": "dbMF2ZYJdsWA"
      },
      "id": "dbMF2ZYJdsWA",
      "execution_count": 31,
      "outputs": []
    },
    {
      "cell_type": "code",
      "source": [
        "query = \"How does Gatsby's house look like?\"\n",
        "hyde_query_prompt = make_hyde_prompt(query)\n",
        "hyde_query = get_completion(hyde_query_prompt) #the model's attempt to answer the question, even without having access to the actual information\n",
        "print(hyde_query)\n",
        "\n",
        "#search the doc chunks stored in the collection for the most relevant info\n",
        "results = collection.query(query_texts=[hyde_query], n_results=3)\n",
        "print(results)\n"
      ],
      "metadata": {
        "colab": {
          "base_uri": "https://localhost:8080/"
        },
        "id": "WBRzlLkpd9JZ",
        "outputId": "056bb906-bbfd-400e-a83c-3a4ef0568f18"
      },
      "id": "WBRzlLkpd9JZ",
      "execution_count": 32,
      "outputs": [
        {
          "output_type": "stream",
          "name": "stdout",
          "text": [
            "In F. Scott Fitzgerald's novel \"The Great Gatsby,\" Jay Gatsby's house is described as a colossal affair that is a classic example of the extravagant lifestyle in the 1920s. The mansion is situated in the village of West Egg on Long Island and it is described as a place of old wealth and sophistication. The house is depicted as having a Gothic style, furnished lavishly with period pieces, and even has a tower on one side. The estate boasts a vast lawn with gardens and is set right on the water, complete with its own private beach, a dock for his hydroplane, and a sparkling marina. Inside, the house is meticulously laid out with elegant rooms, including a grand ballroom where Gatsby holds his lavish parties. Despite the excellence and wealth illustrated by the house, it is an emblem of loneliness and a symbol of Gatsby's unfulfilled dream to win Daisy's love back.\n",
            "{'ids': [['The Great Gatsby_72', 'The Great Gatsby_4', 'The Great Gatsby_10']], 'embeddings': None, 'documents': [['. Suddenly I wasn’t thinking of Daisy and Gatsby any more,\\r\\nbut of this clean, hard, limited person, who dealt in universal\\r\\nscepticism, and who leaned back jauntily just within the circle of my\\r\\narm. A phrase began to beat in my ears with a sort of heady\\r\\nexcitement: “There are only the pursued, the pursuing, the busy, and\\r\\nthe tired.”\\r\\n\\r\\n“And Daisy ought to have something in her life,” murmured Jordan to\\r\\nme.\\r\\n\\r\\n“Does she want to see Gatsby?”\\r\\n\\r\\n“She’s not to know about it. Gatsby doesn’t want her to know. You’re\\r\\njust supposed to invite her to tea.”\\r\\n\\r\\nWe passed a barrier of dark trees, and then the façade of Fifty-Ninth\\r\\nStreet, a block of delicate pale light, beamed down into the park.\\r\\nUnlike Gatsby and Tom Buchanan, I had no girl whose disembodied face\\r\\nfloated along the dark cornices and blinding signs, and so I drew up\\r\\nthe girl beside me, tightening my arms. Her wan, scornful mouth\\r\\nsmiled, and so I drew her up again closer, this time to my face.\\r\\n\\r\\n\\r\\n                                  V\\r\\n\\r\\nWhen I came home to West Egg that night I was afraid for a moment that\\r\\nmy house was on fire. Two o’clock and the whole corner of the\\r\\npeninsula was blazing with light, which fell unreal on the shrubbery\\r\\nand made thin elongating glints upon the roadside wires. Turning a\\r\\ncorner, I saw that it was Gatsby’s house, lit from tower to cellar.\\r\\n\\r\\nAt first I thought it was another party, a wild rout that had resolved\\r\\nitself into “hide-and-go-seek” or “sardines-in-the-box” with all the\\r\\nhouse thrown open to the game. But there wasn’t a sound. Only wind in\\r\\nthe trees, which blew the wires and made the lights go off and on\\r\\nagain as if the house had winked into the darkness. As my taxi groaned\\r\\naway I saw Gatsby walking toward me across his lawn.\\r\\n\\r\\n“Your place looks like the World’s Fair,” I said.\\r\\n\\r\\n“Does it?” He turned his eyes toward it absently. “I have been\\r\\nglancing into some of the rooms. Let’s go to Coney Island, old\\r\\nsport', '. They are not perfect ovals—like the\\r\\negg in the Columbus story, they are both crushed flat at the contact\\r\\nend—but their physical resemblance must be a source of perpetual\\r\\nwonder to the gulls that fly overhead. To the wingless a more\\r\\ninteresting phenomenon is their dissimilarity in every particular\\r\\nexcept shape and size.\\r\\n\\r\\nI lived at West Egg, the—well, the less fashionable of the two, though\\r\\nthis is a most superficial tag to express the bizarre and not a little\\r\\nsinister contrast between them. My house was at the very tip of the\\r\\negg, only fifty yards from the Sound, and squeezed between two huge\\r\\nplaces that rented for twelve or fifteen thousand a season. The one on\\r\\nmy right was a colossal affair by any standard—it was a factual\\r\\nimitation of some Hôtel de Ville in Normandy, with a tower on one\\r\\nside, spanking new under a thin beard of raw ivy, and a marble\\r\\nswimming pool, and more than forty acres of lawn and garden. It was\\r\\nGatsby’s mansion. Or, rather, as I didn’t know Mr. Gatsby, it was a\\r\\nmansion inhabited by a gentleman of that name. My own house was an\\r\\neyesore, but it was a small eyesore, and it had been overlooked, so I\\r\\nhad a view of the water, a partial view of my neighbour’s lawn, and\\r\\nthe consoling proximity of millionaires—all for eighty dollars a\\r\\nmonth.\\r\\n\\r\\nAcross the courtesy bay the white palaces of fashionable East Egg\\r\\nglittered along the water, and the history of the summer really begins\\r\\non the evening I drove over there to have dinner with the Tom\\r\\nBuchanans. Daisy was my second cousin once removed, and I’d known Tom\\r\\nin college. And just after the war I spent two days with them in\\r\\nChicago.\\r\\n\\r\\nHer husband, among various physical accomplishments, had been one of\\r\\nthe most powerful ends that ever played football at New Haven—a\\r\\nnational figure in a way, one of those men who reach such an acute\\r\\nlimited excellence at twenty-one that everything afterward savours of\\r\\nanticlimax', '. Her grey sun-strained eyes looked\\r\\nback at me with polite reciprocal curiosity out of a wan, charming,\\r\\ndiscontented face. It occurred to me now that I had seen her, or a\\r\\npicture of her, somewhere before.\\r\\n\\r\\n“You live in West Egg,” she remarked contemptuously. “I know somebody\\r\\nthere.”\\r\\n\\r\\n“I don’t know a single—”\\r\\n\\r\\n“You must know Gatsby.”\\r\\n\\r\\n“Gatsby?” demanded Daisy. “What Gatsby?”\\r\\n\\r\\nBefore I could reply that he was my neighbour dinner was announced;\\r\\nwedging his tense arm imperatively under mine, Tom Buchanan compelled\\r\\nme from the room as though he were moving a checker to another square.\\r\\n\\r\\nSlenderly, languidly, their hands set lightly on their hips, the two\\r\\nyoung women preceded us out on to a rosy-coloured porch, open toward\\r\\nthe sunset, where four candles flickered on the table in the\\r\\ndiminished wind.\\r\\n\\r\\n“Why candles?” objected Daisy, frowning. She snapped them out with her\\r\\nfingers. “In two weeks it’ll be the longest day in the year.” She\\r\\nlooked at us all radiantly. “Do you always watch for the longest day\\r\\nof the year and then miss it? I always watch for the longest day in\\r\\nthe year and then miss it.”\\r\\n\\r\\n“We ought to plan something,” yawned Miss Baker, sitting down at the\\r\\ntable as if she were getting into bed.\\r\\n\\r\\n“All right,” said Daisy. “What’ll we plan?” She turned to me\\r\\nhelplessly: “What do people plan?”\\r\\n\\r\\nBefore I could answer her eyes fastened with an awed expression on her\\r\\nlittle finger.\\r\\n\\r\\n“Look!” she complained; “I hurt it.”\\r\\n\\r\\nWe all looked—the knuckle was black and blue.\\r\\n\\r\\n“You did it, Tom,” she said accusingly. “I know you didn’t mean to,\\r\\nbut you did do it']], 'uris': None, 'data': None, 'metadatas': [[{'author': 'F. Scott Fitzgerald', 'chunk_idx': 72, 'filename': 'pg64317.txt', 'source_url': 'https://www.gutenberg.org/cache/epub/64317/pg64317.txt', 'title': 'The Great Gatsby'}, {'author': 'F. Scott Fitzgerald', 'chunk_idx': 4, 'filename': 'pg64317.txt', 'source_url': 'https://www.gutenberg.org/cache/epub/64317/pg64317.txt', 'title': 'The Great Gatsby'}, {'author': 'F. Scott Fitzgerald', 'chunk_idx': 10, 'filename': 'pg64317.txt', 'source_url': 'https://www.gutenberg.org/cache/epub/64317/pg64317.txt', 'title': 'The Great Gatsby'}]], 'distances': [[0.38600653409957886, 0.40321600437164307, 0.40969961881637573]], 'included': [<IncludeEnum.distances: 'distances'>, <IncludeEnum.documents: 'documents'>, <IncludeEnum.metadatas: 'metadatas'>]}\n"
          ]
        }
      ]
    },
    {
      "cell_type": "markdown",
      "source": [
        "#what happened:\n",
        "This hypothetical answer is used as the basis for the search. The aim is to retrieve more relevant document chunks by using a richer query representation.\n"
      ],
      "metadata": {
        "id": "UxFhHyEFfJfG"
      },
      "id": "UxFhHyEFfJfG"
    },
    {
      "cell_type": "code",
      "source": [
        "def answer_query_with_hyde(user_query):\n",
        "  hyde_prompt = make_hyde_prompt(user_query)\n",
        "  hyde_query = get_completion(hyde_prompt)\n",
        "  result_str = populate_rag_query(hyde_query, n_results=3)\n",
        "  rag_prompt = make_rag_prompt(hyde_query, result_str)\n",
        "  rag_completion = get_completion(rag_prompt)\n",
        "  return rag_completion\n",
        "\n",
        "user_query = \"How does Gatsby's house look like?\"\n",
        "answer = answer_query_with_hyde(user_query)\n",
        "print(answer)"
      ],
      "metadata": {
        "colab": {
          "base_uri": "https://localhost:8080/"
        },
        "id": "y2g8u2J-fNjr",
        "outputId": "07c24bd4-010f-411b-fe85-72d0414db767"
      },
      "id": "y2g8u2J-fNjr",
      "execution_count": 33,
      "outputs": [
        {
          "output_type": "stream",
          "name": "stdout",
          "text": [
            "In \"The Great Gatsby\" by F. Scott Fitzgerald, Gatsby's mansion is located in West Egg on Long Island, and its grandeur encapsulates his immense wealth and his desire to flaunt it. The house is an \"imitation of some Hôtel de Ville in Normandy\" with a tower on one side, a thin layer of raw ivy implying its newness, a marble swimming pool, and more than forty acres of lawn and garden. This demonstrates Gatsby's opulence and his ambition to impress the high society. Inside, the mansion comprises a library filled with actual books indicating Gatsby's strive to portray himself as traditionally educated and refined. His house, therefore, is a symbol of his aspirations, illusions, and ultimately, his catastrophes. The visitors to Gatsby's house during a particular summer include people from both West and East Egg, signifying acceptance and recognition of his status from high society, despite their knowing little about him. - [Source: The Great Gatsby, F. Scott Fitzgerald, Chunk: 4 & 54, Link: https://www.gutenberg.org/cache/epub/64317/pg64317.txt]\n"
          ]
        }
      ]
    },
    {
      "cell_type": "markdown",
      "source": [
        "#Fusion search\n",
        "\n",
        "method to handle complex queries\n",
        "\n",
        "it breaks down a complex query into miltiple subqueries\n",
        "each of them is processed individually, and then when it comes to results, they are combined\n"
      ],
      "metadata": {
        "id": "MovijS5agEyy"
      },
      "id": "MovijS5agEyy"
    },
    {
      "cell_type": "code",
      "source": [
        "import json"
      ],
      "metadata": {
        "id": "sycZLx2LgdCJ"
      },
      "id": "sycZLx2LgdCJ",
      "execution_count": 35,
      "outputs": []
    },
    {
      "cell_type": "code",
      "source": [
        "response = get_completion(\"\"\"<INSTRUCTIONS>\n",
        "Generate valid JSON with the key \"data\" and a list of 1,2,3.\n",
        "Only generate the JSON. Do not output any additional characters.\n",
        "Do not output markdown backticks. Just raw JSON.\n",
        "</INSTRUCTIONS>\n",
        "\n",
        "YOUR JSON:\"\"\")\n",
        "our_loaded_json = json.loads(response)\n",
        "for number in our_loaded_json['data']:\n",
        "    print(f\"Number: {number}\")"
      ],
      "metadata": {
        "colab": {
          "base_uri": "https://localhost:8080/"
        },
        "id": "0XRZxhWigi60",
        "outputId": "d561e0c6-1fd0-4115-c2d2-0d46701ba29a"
      },
      "id": "0XRZxhWigi60",
      "execution_count": 36,
      "outputs": [
        {
          "output_type": "stream",
          "name": "stdout",
          "text": [
            "Number: 1\n",
            "Number: 2\n",
            "Number: 3\n"
          ]
        }
      ]
    },
    {
      "cell_type": "code",
      "source": [
        "def generate_subquestions(query):\n",
        "    prompt = f\"\"\"<INSTRUCTIONS>\n",
        "Given the following user query, generate a list of 2-4 subquestions that would help in answering the original query.\n",
        "Return the result as JSON with the key \"data\" and the list as its value.\n",
        "Only output valid JSON and no other characters.\n",
        "Do not output markdown backticks. Just output raw JSON only.\n",
        "</INSTRUCTIONS>\n",
        "\n",
        "<QUERY>{query}</QUERY>\n",
        "\"\"\"\n",
        "    response = get_completion(prompt)\n",
        "#     if the model generates invalid json, uncomment the print line and inspect what went wrong\n",
        "#     print(response)\n",
        "    subquery_dict = json.loads(response)\n",
        "    return subquery_dict['data']\n",
        "\n",
        "generate_subquestions(\"What should I eat for dinner tonight?\")"
      ],
      "metadata": {
        "colab": {
          "base_uri": "https://localhost:8080/"
        },
        "id": "D6cjul8XgmOL",
        "outputId": "44805d42-472a-4e93-a5fe-79eea905dd67"
      },
      "id": "D6cjul8XgmOL",
      "execution_count": 37,
      "outputs": [
        {
          "output_type": "execute_result",
          "data": {
            "text/plain": [
              "['What dietary restrictions or preferences do you have?',\n",
              " 'Are you looking for a recipe to cook at home or a recommendation for restaurant dining?',\n",
              " 'Are there any specific types of cuisine that you prefer?',\n",
              " 'Are you currently following any specific diet?']"
            ]
          },
          "metadata": {},
          "execution_count": 37
        }
      ]
    },
    {
      "cell_type": "code",
      "source": [
        "def get_and_concat_subquestions(query):\n",
        "    subquestions = generate_subquestions(query)\n",
        "    subquestion_context = []\n",
        "    for subquestion in subquestions:\n",
        "        result_str = populate_rag_query(subquestion)\n",
        "        rag_prompt = make_rag_prompt(subquestion, result_str)\n",
        "        answer = get_completion(rag_prompt)\n",
        "        subquestion_context.append(f\"Q: {subquestion}\\nA: {answer}\")\n",
        "    return \"\\n\\n\".join(subquestion_context)"
      ],
      "metadata": {
        "id": "qBdnELSHhGer"
      },
      "id": "qBdnELSHhGer",
      "execution_count": 41,
      "outputs": []
    },
    {
      "cell_type": "code",
      "source": [
        "def fusion_search(query):\n",
        "    print(f\"Original query: {query}\")\n",
        "    subquestion_context = get_and_concat_subquestions(query)\n",
        "    print(\"Subquestion context:\", subquestion_context)\n",
        "    final_prompt = f\"\"\"<INSTRUCTIONS>\n",
        "Using the following information from subquestions, answer the original query.\n",
        "</INSTRUCTIONS>\n",
        "\n",
        "<SUBQUESTION_INFO>\n",
        "{subquestion_context}\n",
        "</SUBQUESTION_INFO>\n",
        "\n",
        "<ORIGINAL_QUERY>{query}</ORIGINAL_QUERY>\n",
        "\n",
        "Final Answer:\"\"\"\n",
        "\n",
        "    final_answer = get_completion(final_prompt)\n",
        "    return final_answer\n",
        "\n",
        "user_query = \"Why did Daisy marry Tom even though she has feelings to Gatsby?\"\n",
        "result = fusion_search(user_query)\n",
        "\n",
        "print(\"\\nFinal Result:\")\n",
        "print(result)"
      ],
      "metadata": {
        "colab": {
          "base_uri": "https://localhost:8080/"
        },
        "id": "JTfgX0slhO3Y",
        "outputId": "2e095de5-cacd-4fd8-d96b-1cf06a7c535f"
      },
      "id": "JTfgX0slhO3Y",
      "execution_count": 42,
      "outputs": [
        {
          "output_type": "stream",
          "name": "stdout",
          "text": [
            "Original query: Why did Daisy marry Tom even though she has feelings to Gatsby?\n",
            "Subquestion context: Q: What is the relationship between Daisy, Tom and Gatsby in the storyline?\n",
            "A: In the storyline of \"The Great Gatsby\" by F. Scott Fitzgerald, Daisy and Tom Buchanan are married, but Daisy and Gatsby share a romantic connection. This creates a complex love triangle. In a particular scene, Daisy openly tells Gatsby that she loves him, while her husband Tom is present. This revelation astounds Tom. The tension between the three characters grows as Tom observes the undeniable chemistry between his wife and Gatsby. [Source: The Great Gatsby, F. Scott Fitzgerald, Chunk: 105, Link: https://www.gutenberg.org/cache/epub/64317/pg64317.txt]\n",
            "\n",
            "Q: What are the key events that led to Daisy's decision to marry Tom?\n",
            "A: Daisy's decision to marry Tom Buchanan followed a series of events. After presumably being prevented from going to New York to say goodbye to a soldier going overseas, Daisy stopped mingling with soldiers and began interacting with a group of men in town. She later attended a debut after the armistice. In February, she was seemingly engaged to a man from New Orleans. Nonetheless, in June, she married Tom Buchanan, a man from Chicago. The event was grandiose, with Tom bringing a hundred people in four private cars and renting an entire floor of the Muhlbach Hotel. Tom gifted Daisy a string of pearls valued at three hundred and fifty thousand dollars the day before their wedding - [Source: The Great Gatsby, F. Scott Fitzgerald, Chunk: 68, Link: https://www.gutenberg.org/cache/epub/64317/pg64317.txt].\n",
            "\n",
            "Q: What role do societal expectations and norms play in Daisy's decision to marry Tom?\n",
            "A: Daisy's decision to marry Tom Buchanan appears to be largely influenced by societal norms and expectations rather than personal affection. Prior to her marriage, Daisy was rumored to be infatuated with a soldier, but her family effectively stopped her from pursuing him. Instead, Daisy had to confine her relationships to those men who couldn't make it into the military, suggesting that societal pressure to associate with individuals of particular status played a significant role in her choice of suitors. The grandiosity of her marriage to Tom, including the extravagant gift of pearls and the remarkable pomp and circumstance, affirms the importance of wealth and social standing in Daisy's decision to marry him. Indeed, despite apparent second thoughts on her wedding day, Daisy seems to conform to societal standards rather than following her personal desires.\n",
            "- [Source: The Great Gatsby, F. Scott Fitzgerald, Chunk: 68, Link: https://www.gutenberg.org/cache/epub/64317/pg64317.txt]\n",
            "\n",
            "Q: Does Daisy's social status and wealth have any impact on her decision to marry Tom rather than Gatsby?\n",
            "A: The text doesn't provide enough information to answer the user query regarding whether Daisy's social status and wealth influenced her decision to marry Tom instead of Gatsby.\n",
            "\n",
            "Final Result:\n",
            "Daisy's decision to marry Tom Buchanan over Gatsby was influenced by a combination of factors. The events that led her to marry Tom included her interactions with a particular group of men and Tom's extravagant courtship. On the day before their wedding, Tom gifted Daisy with a string of pearls valued at $350,000, and arranged a grandiose wedding ceremony.\n",
            "\n",
            "Further, societal expectations and norms played a significant role in Daisy's decision. Despite having feelings for a soldier (implied to be Gatsby), her family effectively prevented her from pursuing this relationship as it did not align with their expectations. Instead, she was enthusiastic in her relationships with men who didn't make it into the military, reflecting societal pressure to associate with individuals of particular status. \n",
            "\n",
            "Despite any feelings Daisy may have had for Gatsby, she ultimately decided to marry Tom, largely conforming to societal standards and following a path of social adequacy and financial security.\n"
          ]
        }
      ]
    }
  ],
  "metadata": {
    "kernelspec": {
      "display_name": "Python 3",
      "language": "python",
      "name": "python3"
    },
    "language_info": {
      "codemirror_mode": {
        "name": "ipython",
        "version": 3
      },
      "file_extension": ".py",
      "mimetype": "text/x-python",
      "name": "python",
      "nbconvert_exporter": "python",
      "pygments_lexer": "ipython3",
      "version": "3.9.7"
    },
    "colab": {
      "provenance": []
    }
  },
  "nbformat": 4,
  "nbformat_minor": 5
}