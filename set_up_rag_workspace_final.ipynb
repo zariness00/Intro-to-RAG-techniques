{
  "cells": [
    {
      "cell_type": "code",
      "execution_count": 1,
      "id": "Ke0tJk5yUmtV",
      "metadata": {
        "colab": {
          "base_uri": "https://localhost:8080/",
          "height": 1000
        },
        "id": "Ke0tJk5yUmtV",
        "outputId": "7e2effa8-0802-4298-f803-29388c65dc38"
      },
      "outputs": [
        {
          "name": "stdout",
          "output_type": "stream",
          "text": [
            "Collecting chromadb\n",
            "  Downloading chromadb-0.6.3-py3-none-any.whl.metadata (6.8 kB)\n",
            "Collecting build>=1.0.3 (from chromadb)\n",
            "  Downloading build-1.2.2.post1-py3-none-any.whl.metadata (6.5 kB)\n",
            "Requirement already satisfied: pydantic>=1.9 in /usr/local/lib/python3.11/dist-packages (from chromadb) (2.10.6)\n",
            "Collecting chroma-hnswlib==0.7.6 (from chromadb)\n",
            "  Downloading chroma_hnswlib-0.7.6-cp311-cp311-manylinux_2_17_x86_64.manylinux2014_x86_64.whl.metadata (252 bytes)\n",
            "Collecting fastapi>=0.95.2 (from chromadb)\n",
            "  Downloading fastapi-0.115.8-py3-none-any.whl.metadata (27 kB)\n",
            "Collecting uvicorn>=0.18.3 (from uvicorn[standard]>=0.18.3->chromadb)\n",
            "  Downloading uvicorn-0.34.0-py3-none-any.whl.metadata (6.5 kB)\n",
            "Requirement already satisfied: numpy>=1.22.5 in /usr/local/lib/python3.11/dist-packages (from chromadb) (1.26.4)\n",
            "Collecting posthog>=2.4.0 (from chromadb)\n",
            "  Downloading posthog-3.14.2-py2.py3-none-any.whl.metadata (2.9 kB)\n",
            "Requirement already satisfied: typing_extensions>=4.5.0 in /usr/local/lib/python3.11/dist-packages (from chromadb) (4.12.2)\n",
            "Collecting onnxruntime>=1.14.1 (from chromadb)\n",
            "  Downloading onnxruntime-1.20.1-cp311-cp311-manylinux_2_27_x86_64.manylinux_2_28_x86_64.whl.metadata (4.5 kB)\n",
            "Requirement already satisfied: opentelemetry-api>=1.2.0 in /usr/local/lib/python3.11/dist-packages (from chromadb) (1.16.0)\n",
            "Collecting opentelemetry-exporter-otlp-proto-grpc>=1.2.0 (from chromadb)\n",
            "  Downloading opentelemetry_exporter_otlp_proto_grpc-1.30.0-py3-none-any.whl.metadata (2.4 kB)\n",
            "Collecting opentelemetry-instrumentation-fastapi>=0.41b0 (from chromadb)\n",
            "  Downloading opentelemetry_instrumentation_fastapi-0.51b0-py3-none-any.whl.metadata (2.2 kB)\n",
            "Requirement already satisfied: opentelemetry-sdk>=1.2.0 in /usr/local/lib/python3.11/dist-packages (from chromadb) (1.16.0)\n",
            "Requirement already satisfied: tokenizers>=0.13.2 in /usr/local/lib/python3.11/dist-packages (from chromadb) (0.21.0)\n",
            "Collecting pypika>=0.48.9 (from chromadb)\n",
            "  Downloading PyPika-0.48.9.tar.gz (67 kB)\n",
            "\u001b[2K     \u001b[90m━━━━━━━━━━━━━━━━━━━━━━━━━━━━━━━━━━━━━━━━\u001b[0m \u001b[32m67.3/67.3 kB\u001b[0m \u001b[31m3.1 MB/s\u001b[0m eta \u001b[36m0:00:00\u001b[0m\n",
            "\u001b[?25h  Installing build dependencies ... \u001b[?25l\u001b[?25hdone\n",
            "  Getting requirements to build wheel ... \u001b[?25l\u001b[?25hdone\n",
            "  Preparing metadata (pyproject.toml) ... \u001b[?25l\u001b[?25hdone\n",
            "Requirement already satisfied: tqdm>=4.65.0 in /usr/local/lib/python3.11/dist-packages (from chromadb) (4.67.1)\n",
            "Collecting overrides>=7.3.1 (from chromadb)\n",
            "  Downloading overrides-7.7.0-py3-none-any.whl.metadata (5.8 kB)\n",
            "Requirement already satisfied: importlib-resources in /usr/local/lib/python3.11/dist-packages (from chromadb) (6.5.2)\n",
            "Requirement already satisfied: grpcio>=1.58.0 in /usr/local/lib/python3.11/dist-packages (from chromadb) (1.70.0)\n",
            "Collecting bcrypt>=4.0.1 (from chromadb)\n",
            "  Downloading bcrypt-4.2.1-cp39-abi3-manylinux_2_28_x86_64.whl.metadata (9.8 kB)\n",
            "Requirement already satisfied: typer>=0.9.0 in /usr/local/lib/python3.11/dist-packages (from chromadb) (0.15.1)\n",
            "Collecting kubernetes>=28.1.0 (from chromadb)\n",
            "  Downloading kubernetes-32.0.1-py2.py3-none-any.whl.metadata (1.7 kB)\n",
            "Requirement already satisfied: tenacity>=8.2.3 in /usr/local/lib/python3.11/dist-packages (from chromadb) (9.0.0)\n",
            "Requirement already satisfied: PyYAML>=6.0.0 in /usr/local/lib/python3.11/dist-packages (from chromadb) (6.0.2)\n",
            "Collecting mmh3>=4.0.1 (from chromadb)\n",
            "  Downloading mmh3-5.1.0-cp311-cp311-manylinux_2_5_x86_64.manylinux1_x86_64.manylinux_2_17_x86_64.manylinux2014_x86_64.whl.metadata (16 kB)\n",
            "Requirement already satisfied: orjson>=3.9.12 in /usr/local/lib/python3.11/dist-packages (from chromadb) (3.10.15)\n",
            "Requirement already satisfied: httpx>=0.27.0 in /usr/local/lib/python3.11/dist-packages (from chromadb) (0.28.1)\n",
            "Requirement already satisfied: rich>=10.11.0 in /usr/local/lib/python3.11/dist-packages (from chromadb) (13.9.4)\n",
            "Requirement already satisfied: packaging>=19.1 in /usr/local/lib/python3.11/dist-packages (from build>=1.0.3->chromadb) (24.2)\n",
            "Collecting pyproject_hooks (from build>=1.0.3->chromadb)\n",
            "  Downloading pyproject_hooks-1.2.0-py3-none-any.whl.metadata (1.3 kB)\n",
            "Collecting starlette<0.46.0,>=0.40.0 (from fastapi>=0.95.2->chromadb)\n",
            "  Downloading starlette-0.45.3-py3-none-any.whl.metadata (6.3 kB)\n",
            "Requirement already satisfied: anyio in /usr/local/lib/python3.11/dist-packages (from httpx>=0.27.0->chromadb) (3.7.1)\n",
            "Requirement already satisfied: certifi in /usr/local/lib/python3.11/dist-packages (from httpx>=0.27.0->chromadb) (2025.1.31)\n",
            "Requirement already satisfied: httpcore==1.* in /usr/local/lib/python3.11/dist-packages (from httpx>=0.27.0->chromadb) (1.0.7)\n",
            "Requirement already satisfied: idna in /usr/local/lib/python3.11/dist-packages (from httpx>=0.27.0->chromadb) (3.10)\n",
            "Requirement already satisfied: h11<0.15,>=0.13 in /usr/local/lib/python3.11/dist-packages (from httpcore==1.*->httpx>=0.27.0->chromadb) (0.14.0)\n",
            "Requirement already satisfied: six>=1.9.0 in /usr/local/lib/python3.11/dist-packages (from kubernetes>=28.1.0->chromadb) (1.17.0)\n",
            "Requirement already satisfied: python-dateutil>=2.5.3 in /usr/local/lib/python3.11/dist-packages (from kubernetes>=28.1.0->chromadb) (2.8.2)\n",
            "Requirement already satisfied: google-auth>=1.0.1 in /usr/local/lib/python3.11/dist-packages (from kubernetes>=28.1.0->chromadb) (2.27.0)\n",
            "Requirement already satisfied: websocket-client!=0.40.0,!=0.41.*,!=0.42.*,>=0.32.0 in /usr/local/lib/python3.11/dist-packages (from kubernetes>=28.1.0->chromadb) (1.8.0)\n",
            "Requirement already satisfied: requests in /usr/local/lib/python3.11/dist-packages (from kubernetes>=28.1.0->chromadb) (2.32.3)\n",
            "Requirement already satisfied: requests-oauthlib in /usr/local/lib/python3.11/dist-packages (from kubernetes>=28.1.0->chromadb) (2.0.0)\n",
            "Requirement already satisfied: oauthlib>=3.2.2 in /usr/local/lib/python3.11/dist-packages (from kubernetes>=28.1.0->chromadb) (3.2.2)\n",
            "Requirement already satisfied: urllib3>=1.24.2 in /usr/local/lib/python3.11/dist-packages (from kubernetes>=28.1.0->chromadb) (2.3.0)\n",
            "Collecting durationpy>=0.7 (from kubernetes>=28.1.0->chromadb)\n",
            "  Downloading durationpy-0.9-py3-none-any.whl.metadata (338 bytes)\n",
            "Collecting coloredlogs (from onnxruntime>=1.14.1->chromadb)\n",
            "  Downloading coloredlogs-15.0.1-py2.py3-none-any.whl.metadata (12 kB)\n",
            "Requirement already satisfied: flatbuffers in /usr/local/lib/python3.11/dist-packages (from onnxruntime>=1.14.1->chromadb) (25.2.10)\n",
            "Requirement already satisfied: protobuf in /usr/local/lib/python3.11/dist-packages (from onnxruntime>=1.14.1->chromadb) (4.25.6)\n",
            "Requirement already satisfied: sympy in /usr/local/lib/python3.11/dist-packages (from onnxruntime>=1.14.1->chromadb) (1.13.1)\n",
            "Requirement already satisfied: deprecated>=1.2.6 in /usr/local/lib/python3.11/dist-packages (from opentelemetry-api>=1.2.0->chromadb) (1.2.18)\n",
            "Requirement already satisfied: setuptools>=16.0 in /usr/local/lib/python3.11/dist-packages (from opentelemetry-api>=1.2.0->chromadb) (75.1.0)\n",
            "Requirement already satisfied: googleapis-common-protos~=1.52 in /usr/local/lib/python3.11/dist-packages (from opentelemetry-exporter-otlp-proto-grpc>=1.2.0->chromadb) (1.67.0)\n",
            "Collecting opentelemetry-exporter-otlp-proto-common==1.30.0 (from opentelemetry-exporter-otlp-proto-grpc>=1.2.0->chromadb)\n",
            "  Downloading opentelemetry_exporter_otlp_proto_common-1.30.0-py3-none-any.whl.metadata (1.9 kB)\n",
            "Collecting opentelemetry-proto==1.30.0 (from opentelemetry-exporter-otlp-proto-grpc>=1.2.0->chromadb)\n",
            "  Downloading opentelemetry_proto-1.30.0-py3-none-any.whl.metadata (2.4 kB)\n",
            "Collecting opentelemetry-sdk>=1.2.0 (from chromadb)\n",
            "  Downloading opentelemetry_sdk-1.30.0-py3-none-any.whl.metadata (1.6 kB)\n",
            "Collecting protobuf (from onnxruntime>=1.14.1->chromadb)\n",
            "  Downloading protobuf-5.29.3-cp38-abi3-manylinux2014_x86_64.whl.metadata (592 bytes)\n",
            "Collecting opentelemetry-instrumentation-asgi==0.51b0 (from opentelemetry-instrumentation-fastapi>=0.41b0->chromadb)\n",
            "  Downloading opentelemetry_instrumentation_asgi-0.51b0-py3-none-any.whl.metadata (2.1 kB)\n",
            "Collecting opentelemetry-instrumentation==0.51b0 (from opentelemetry-instrumentation-fastapi>=0.41b0->chromadb)\n",
            "  Downloading opentelemetry_instrumentation-0.51b0-py3-none-any.whl.metadata (6.3 kB)\n",
            "Collecting opentelemetry-semantic-conventions==0.51b0 (from opentelemetry-instrumentation-fastapi>=0.41b0->chromadb)\n",
            "  Downloading opentelemetry_semantic_conventions-0.51b0-py3-none-any.whl.metadata (2.5 kB)\n",
            "Collecting opentelemetry-util-http==0.51b0 (from opentelemetry-instrumentation-fastapi>=0.41b0->chromadb)\n",
            "  Downloading opentelemetry_util_http-0.51b0-py3-none-any.whl.metadata (2.6 kB)\n",
            "Requirement already satisfied: wrapt<2.0.0,>=1.0.0 in /usr/local/lib/python3.11/dist-packages (from opentelemetry-instrumentation==0.51b0->opentelemetry-instrumentation-fastapi>=0.41b0->chromadb) (1.17.2)\n",
            "Collecting asgiref~=3.0 (from opentelemetry-instrumentation-asgi==0.51b0->opentelemetry-instrumentation-fastapi>=0.41b0->chromadb)\n",
            "  Downloading asgiref-3.8.1-py3-none-any.whl.metadata (9.3 kB)\n",
            "Collecting opentelemetry-api>=1.2.0 (from chromadb)\n",
            "  Downloading opentelemetry_api-1.30.0-py3-none-any.whl.metadata (1.6 kB)\n",
            "Collecting importlib-metadata<=8.5.0,>=6.0 (from opentelemetry-api>=1.2.0->chromadb)\n",
            "  Downloading importlib_metadata-8.5.0-py3-none-any.whl.metadata (4.8 kB)\n",
            "Collecting monotonic>=1.5 (from posthog>=2.4.0->chromadb)\n",
            "  Downloading monotonic-1.6-py2.py3-none-any.whl.metadata (1.5 kB)\n",
            "Collecting backoff>=1.10.0 (from posthog>=2.4.0->chromadb)\n",
            "  Downloading backoff-2.2.1-py3-none-any.whl.metadata (14 kB)\n",
            "Requirement already satisfied: annotated-types>=0.6.0 in /usr/local/lib/python3.11/dist-packages (from pydantic>=1.9->chromadb) (0.7.0)\n",
            "Requirement already satisfied: pydantic-core==2.27.2 in /usr/local/lib/python3.11/dist-packages (from pydantic>=1.9->chromadb) (2.27.2)\n",
            "Requirement already satisfied: markdown-it-py>=2.2.0 in /usr/local/lib/python3.11/dist-packages (from rich>=10.11.0->chromadb) (3.0.0)\n",
            "Requirement already satisfied: pygments<3.0.0,>=2.13.0 in /usr/local/lib/python3.11/dist-packages (from rich>=10.11.0->chromadb) (2.18.0)\n",
            "Requirement already satisfied: huggingface-hub<1.0,>=0.16.4 in /usr/local/lib/python3.11/dist-packages (from tokenizers>=0.13.2->chromadb) (0.28.1)\n",
            "Requirement already satisfied: click>=8.0.0 in /usr/local/lib/python3.11/dist-packages (from typer>=0.9.0->chromadb) (8.1.8)\n",
            "Requirement already satisfied: shellingham>=1.3.0 in /usr/local/lib/python3.11/dist-packages (from typer>=0.9.0->chromadb) (1.5.4)\n",
            "Collecting httptools>=0.6.3 (from uvicorn[standard]>=0.18.3->chromadb)\n",
            "  Downloading httptools-0.6.4-cp311-cp311-manylinux_2_5_x86_64.manylinux1_x86_64.manylinux_2_17_x86_64.manylinux2014_x86_64.whl.metadata (3.6 kB)\n",
            "Collecting python-dotenv>=0.13 (from uvicorn[standard]>=0.18.3->chromadb)\n",
            "  Downloading python_dotenv-1.0.1-py3-none-any.whl.metadata (23 kB)\n",
            "Collecting uvloop!=0.15.0,!=0.15.1,>=0.14.0 (from uvicorn[standard]>=0.18.3->chromadb)\n",
            "  Downloading uvloop-0.21.0-cp311-cp311-manylinux_2_17_x86_64.manylinux2014_x86_64.whl.metadata (4.9 kB)\n",
            "Collecting watchfiles>=0.13 (from uvicorn[standard]>=0.18.3->chromadb)\n",
            "  Downloading watchfiles-1.0.4-cp311-cp311-manylinux_2_17_x86_64.manylinux2014_x86_64.whl.metadata (4.9 kB)\n",
            "Requirement already satisfied: websockets>=10.4 in /usr/local/lib/python3.11/dist-packages (from uvicorn[standard]>=0.18.3->chromadb) (14.2)\n",
            "Requirement already satisfied: cachetools<6.0,>=2.0.0 in /usr/local/lib/python3.11/dist-packages (from google-auth>=1.0.1->kubernetes>=28.1.0->chromadb) (5.5.1)\n",
            "Requirement already satisfied: pyasn1-modules>=0.2.1 in /usr/local/lib/python3.11/dist-packages (from google-auth>=1.0.1->kubernetes>=28.1.0->chromadb) (0.4.1)\n",
            "Requirement already satisfied: rsa<5,>=3.1.4 in /usr/local/lib/python3.11/dist-packages (from google-auth>=1.0.1->kubernetes>=28.1.0->chromadb) (4.9)\n",
            "Requirement already satisfied: filelock in /usr/local/lib/python3.11/dist-packages (from huggingface-hub<1.0,>=0.16.4->tokenizers>=0.13.2->chromadb) (3.17.0)\n",
            "Requirement already satisfied: fsspec>=2023.5.0 in /usr/local/lib/python3.11/dist-packages (from huggingface-hub<1.0,>=0.16.4->tokenizers>=0.13.2->chromadb) (2024.10.0)\n",
            "Requirement already satisfied: zipp>=3.20 in /usr/local/lib/python3.11/dist-packages (from importlib-metadata<=8.5.0,>=6.0->opentelemetry-api>=1.2.0->chromadb) (3.21.0)\n",
            "Requirement already satisfied: mdurl~=0.1 in /usr/local/lib/python3.11/dist-packages (from markdown-it-py>=2.2.0->rich>=10.11.0->chromadb) (0.1.2)\n",
            "Requirement already satisfied: charset-normalizer<4,>=2 in /usr/local/lib/python3.11/dist-packages (from requests->kubernetes>=28.1.0->chromadb) (3.4.1)\n",
            "Requirement already satisfied: sniffio>=1.1 in /usr/local/lib/python3.11/dist-packages (from anyio->httpx>=0.27.0->chromadb) (1.3.1)\n",
            "Collecting humanfriendly>=9.1 (from coloredlogs->onnxruntime>=1.14.1->chromadb)\n",
            "  Downloading humanfriendly-10.0-py2.py3-none-any.whl.metadata (9.2 kB)\n",
            "Requirement already satisfied: mpmath<1.4,>=1.1.0 in /usr/local/lib/python3.11/dist-packages (from sympy->onnxruntime>=1.14.1->chromadb) (1.3.0)\n",
            "Requirement already satisfied: pyasn1<0.7.0,>=0.4.6 in /usr/local/lib/python3.11/dist-packages (from pyasn1-modules>=0.2.1->google-auth>=1.0.1->kubernetes>=28.1.0->chromadb) (0.6.1)\n",
            "Downloading chromadb-0.6.3-py3-none-any.whl (611 kB)\n",
            "\u001b[2K   \u001b[90m━━━━━━━━━━━━━━━━━━━━━━━━━━━━━━━━━━━━━━━━\u001b[0m \u001b[32m611.1/611.1 kB\u001b[0m \u001b[31m19.9 MB/s\u001b[0m eta \u001b[36m0:00:00\u001b[0m\n",
            "\u001b[?25hDownloading chroma_hnswlib-0.7.6-cp311-cp311-manylinux_2_17_x86_64.manylinux2014_x86_64.whl (2.4 MB)\n",
            "\u001b[2K   \u001b[90m━━━━━━━━━━━━━━━━━━━━━━━━━━━━━━━━━━━━━━━━\u001b[0m \u001b[32m2.4/2.4 MB\u001b[0m \u001b[31m58.2 MB/s\u001b[0m eta \u001b[36m0:00:00\u001b[0m\n",
            "\u001b[?25hDownloading bcrypt-4.2.1-cp39-abi3-manylinux_2_28_x86_64.whl (278 kB)\n",
            "\u001b[2K   \u001b[90m━━━━━━━━━━━━━━━━━━━━━━━━━━━━━━━━━━━━━━━━\u001b[0m \u001b[32m278.6/278.6 kB\u001b[0m \u001b[31m22.0 MB/s\u001b[0m eta \u001b[36m0:00:00\u001b[0m\n",
            "\u001b[?25hDownloading build-1.2.2.post1-py3-none-any.whl (22 kB)\n",
            "Downloading fastapi-0.115.8-py3-none-any.whl (94 kB)\n",
            "\u001b[2K   \u001b[90m━━━━━━━━━━━━━━━━━━━━━━━━━━━━━━━━━━━━━━━━\u001b[0m \u001b[32m94.8/94.8 kB\u001b[0m \u001b[31m8.5 MB/s\u001b[0m eta \u001b[36m0:00:00\u001b[0m\n",
            "\u001b[?25hDownloading kubernetes-32.0.1-py2.py3-none-any.whl (2.0 MB)\n",
            "\u001b[2K   \u001b[90m━━━━━━━━━━━━━━━━━━━━━━━━━━━━━━━━━━━━━━━━\u001b[0m \u001b[32m2.0/2.0 MB\u001b[0m \u001b[31m78.7 MB/s\u001b[0m eta \u001b[36m0:00:00\u001b[0m\n",
            "\u001b[?25hDownloading mmh3-5.1.0-cp311-cp311-manylinux_2_5_x86_64.manylinux1_x86_64.manylinux_2_17_x86_64.manylinux2014_x86_64.whl (101 kB)\n",
            "\u001b[2K   \u001b[90m━━━━━━━━━━━━━━━━━━━━━━━━━━━━━━━━━━━━━━━━\u001b[0m \u001b[32m101.6/101.6 kB\u001b[0m \u001b[31m9.2 MB/s\u001b[0m eta \u001b[36m0:00:00\u001b[0m\n",
            "\u001b[?25hDownloading onnxruntime-1.20.1-cp311-cp311-manylinux_2_27_x86_64.manylinux_2_28_x86_64.whl (13.3 MB)\n",
            "\u001b[2K   \u001b[90m━━━━━━━━━━━━━━━━━━━━━━━━━━━━━━━━━━━━━━━━\u001b[0m \u001b[32m13.3/13.3 MB\u001b[0m \u001b[31m89.0 MB/s\u001b[0m eta \u001b[36m0:00:00\u001b[0m\n",
            "\u001b[?25hDownloading opentelemetry_exporter_otlp_proto_grpc-1.30.0-py3-none-any.whl (18 kB)\n",
            "Downloading opentelemetry_exporter_otlp_proto_common-1.30.0-py3-none-any.whl (18 kB)\n",
            "Downloading opentelemetry_proto-1.30.0-py3-none-any.whl (55 kB)\n",
            "\u001b[2K   \u001b[90m━━━━━━━━━━━━━━━━━━━━━━━━━━━━━━━━━━━━━━━━\u001b[0m \u001b[32m55.9/55.9 kB\u001b[0m \u001b[31m5.4 MB/s\u001b[0m eta \u001b[36m0:00:00\u001b[0m\n",
            "\u001b[?25hDownloading opentelemetry_instrumentation_fastapi-0.51b0-py3-none-any.whl (12 kB)\n",
            "Downloading opentelemetry_instrumentation-0.51b0-py3-none-any.whl (30 kB)\n",
            "Downloading opentelemetry_instrumentation_asgi-0.51b0-py3-none-any.whl (16 kB)\n",
            "Downloading opentelemetry_semantic_conventions-0.51b0-py3-none-any.whl (177 kB)\n",
            "\u001b[2K   \u001b[90m━━━━━━━━━━━━━━━━━━━━━━━━━━━━━━━━━━━━━━━━\u001b[0m \u001b[32m177.4/177.4 kB\u001b[0m \u001b[31m14.5 MB/s\u001b[0m eta \u001b[36m0:00:00\u001b[0m\n",
            "\u001b[?25hDownloading opentelemetry_api-1.30.0-py3-none-any.whl (64 kB)\n",
            "\u001b[2K   \u001b[90m━━━━━━━━━━━━━━━━━━━━━━━━━━━━━━━━━━━━━━━━\u001b[0m \u001b[32m65.0/65.0 kB\u001b[0m \u001b[31m5.8 MB/s\u001b[0m eta \u001b[36m0:00:00\u001b[0m\n",
            "\u001b[?25hDownloading opentelemetry_util_http-0.51b0-py3-none-any.whl (7.3 kB)\n",
            "Downloading opentelemetry_sdk-1.30.0-py3-none-any.whl (118 kB)\n",
            "\u001b[2K   \u001b[90m━━━━━━━━━━━━━━━━━━━━━━━━━━━━━━━━━━━━━━━━\u001b[0m \u001b[32m118.7/118.7 kB\u001b[0m \u001b[31m10.7 MB/s\u001b[0m eta \u001b[36m0:00:00\u001b[0m\n",
            "\u001b[?25hDownloading overrides-7.7.0-py3-none-any.whl (17 kB)\n",
            "Downloading posthog-3.14.2-py2.py3-none-any.whl (73 kB)\n",
            "\u001b[2K   \u001b[90m━━━━━━━━━━━━━━━━━━━━━━━━━━━━━━━━━━━━━━━━\u001b[0m \u001b[32m73.9/73.9 kB\u001b[0m \u001b[31m5.9 MB/s\u001b[0m eta \u001b[36m0:00:00\u001b[0m\n",
            "\u001b[?25hDownloading uvicorn-0.34.0-py3-none-any.whl (62 kB)\n",
            "\u001b[2K   \u001b[90m━━━━━━━━━━━━━━━━━━━━━━━━━━━━━━━━━━━━━━━━\u001b[0m \u001b[32m62.3/62.3 kB\u001b[0m \u001b[31m5.7 MB/s\u001b[0m eta \u001b[36m0:00:00\u001b[0m\n",
            "\u001b[?25hDownloading backoff-2.2.1-py3-none-any.whl (15 kB)\n",
            "Downloading durationpy-0.9-py3-none-any.whl (3.5 kB)\n",
            "Downloading httptools-0.6.4-cp311-cp311-manylinux_2_5_x86_64.manylinux1_x86_64.manylinux_2_17_x86_64.manylinux2014_x86_64.whl (459 kB)\n",
            "\u001b[2K   \u001b[90m━━━━━━━━━━━━━━━━━━━━━━━━━━━━━━━━━━━━━━━━\u001b[0m \u001b[32m459.8/459.8 kB\u001b[0m \u001b[31m35.4 MB/s\u001b[0m eta \u001b[36m0:00:00\u001b[0m\n",
            "\u001b[?25hDownloading importlib_metadata-8.5.0-py3-none-any.whl (26 kB)\n",
            "Downloading monotonic-1.6-py2.py3-none-any.whl (8.2 kB)\n",
            "Downloading protobuf-5.29.3-cp38-abi3-manylinux2014_x86_64.whl (319 kB)\n",
            "\u001b[2K   \u001b[90m━━━━━━━━━━━━━━━━━━━━━━━━━━━━━━━━━━━━━━━━\u001b[0m \u001b[32m319.7/319.7 kB\u001b[0m \u001b[31m26.8 MB/s\u001b[0m eta \u001b[36m0:00:00\u001b[0m\n",
            "\u001b[?25hDownloading python_dotenv-1.0.1-py3-none-any.whl (19 kB)\n",
            "Downloading starlette-0.45.3-py3-none-any.whl (71 kB)\n",
            "\u001b[2K   \u001b[90m━━━━━━━━━━━━━━━━━━━━━━━━━━━━━━━━━━━━━━━━\u001b[0m \u001b[32m71.5/71.5 kB\u001b[0m \u001b[31m6.5 MB/s\u001b[0m eta \u001b[36m0:00:00\u001b[0m\n",
            "\u001b[?25hDownloading uvloop-0.21.0-cp311-cp311-manylinux_2_17_x86_64.manylinux2014_x86_64.whl (4.0 MB)\n",
            "\u001b[2K   \u001b[90m━━━━━━━━━━━━━━━━━━━━━━━━━━━━━━━━━━━━━━━━\u001b[0m \u001b[32m4.0/4.0 MB\u001b[0m \u001b[31m75.4 MB/s\u001b[0m eta \u001b[36m0:00:00\u001b[0m\n",
            "\u001b[?25hDownloading watchfiles-1.0.4-cp311-cp311-manylinux_2_17_x86_64.manylinux2014_x86_64.whl (452 kB)\n",
            "\u001b[2K   \u001b[90m━━━━━━━━━━━━━━━━━━━━━━━━━━━━━━━━━━━━━━━━\u001b[0m \u001b[32m452.6/452.6 kB\u001b[0m \u001b[31m31.3 MB/s\u001b[0m eta \u001b[36m0:00:00\u001b[0m\n",
            "\u001b[?25hDownloading coloredlogs-15.0.1-py2.py3-none-any.whl (46 kB)\n",
            "\u001b[2K   \u001b[90m━━━━━━━━━━━━━━━━━━━━━━━━━━━━━━━━━━━━━━━━\u001b[0m \u001b[32m46.0/46.0 kB\u001b[0m \u001b[31m4.1 MB/s\u001b[0m eta \u001b[36m0:00:00\u001b[0m\n",
            "\u001b[?25hDownloading pyproject_hooks-1.2.0-py3-none-any.whl (10 kB)\n",
            "Downloading asgiref-3.8.1-py3-none-any.whl (23 kB)\n",
            "Downloading humanfriendly-10.0-py2.py3-none-any.whl (86 kB)\n",
            "\u001b[2K   \u001b[90m━━━━━━━━━━━━━━━━━━━━━━━━━━━━━━━━━━━━━━━━\u001b[0m \u001b[32m86.8/86.8 kB\u001b[0m \u001b[31m7.7 MB/s\u001b[0m eta \u001b[36m0:00:00\u001b[0m\n",
            "\u001b[?25hBuilding wheels for collected packages: pypika\n",
            "  Building wheel for pypika (pyproject.toml) ... \u001b[?25l\u001b[?25hdone\n",
            "  Created wheel for pypika: filename=PyPika-0.48.9-py2.py3-none-any.whl size=53771 sha256=5f570ba6e882c940086745a0b7741bf04eb11293650c85510a2bcdcf55534831\n",
            "  Stored in directory: /root/.cache/pip/wheels/a3/01/bd/4c40ceb9d5354160cb186dcc153360f4ab7eb23e2b24daf96d\n",
            "Successfully built pypika\n",
            "Installing collected packages: pypika, monotonic, durationpy, uvloop, uvicorn, python-dotenv, pyproject_hooks, protobuf, overrides, opentelemetry-util-http, mmh3, importlib-metadata, humanfriendly, httptools, chroma-hnswlib, bcrypt, backoff, asgiref, watchfiles, starlette, posthog, opentelemetry-proto, opentelemetry-api, coloredlogs, build, opentelemetry-semantic-conventions, opentelemetry-exporter-otlp-proto-common, onnxruntime, kubernetes, fastapi, opentelemetry-sdk, opentelemetry-instrumentation, opentelemetry-instrumentation-asgi, opentelemetry-exporter-otlp-proto-grpc, opentelemetry-instrumentation-fastapi, chromadb\n",
            "  Attempting uninstall: protobuf\n",
            "    Found existing installation: protobuf 4.25.6\n",
            "    Uninstalling protobuf-4.25.6:\n",
            "      Successfully uninstalled protobuf-4.25.6\n",
            "  Attempting uninstall: importlib-metadata\n",
            "    Found existing installation: importlib_metadata 8.6.1\n",
            "    Uninstalling importlib_metadata-8.6.1:\n",
            "      Successfully uninstalled importlib_metadata-8.6.1\n",
            "  Attempting uninstall: opentelemetry-api\n",
            "    Found existing installation: opentelemetry-api 1.16.0\n",
            "    Uninstalling opentelemetry-api-1.16.0:\n",
            "      Successfully uninstalled opentelemetry-api-1.16.0\n",
            "  Attempting uninstall: opentelemetry-semantic-conventions\n",
            "    Found existing installation: opentelemetry-semantic-conventions 0.37b0\n",
            "    Uninstalling opentelemetry-semantic-conventions-0.37b0:\n",
            "      Successfully uninstalled opentelemetry-semantic-conventions-0.37b0\n",
            "  Attempting uninstall: opentelemetry-sdk\n",
            "    Found existing installation: opentelemetry-sdk 1.16.0\n",
            "    Uninstalling opentelemetry-sdk-1.16.0:\n",
            "      Successfully uninstalled opentelemetry-sdk-1.16.0\n",
            "Successfully installed asgiref-3.8.1 backoff-2.2.1 bcrypt-4.2.1 build-1.2.2.post1 chroma-hnswlib-0.7.6 chromadb-0.6.3 coloredlogs-15.0.1 durationpy-0.9 fastapi-0.115.8 httptools-0.6.4 humanfriendly-10.0 importlib-metadata-8.5.0 kubernetes-32.0.1 mmh3-5.1.0 monotonic-1.6 onnxruntime-1.20.1 opentelemetry-api-1.30.0 opentelemetry-exporter-otlp-proto-common-1.30.0 opentelemetry-exporter-otlp-proto-grpc-1.30.0 opentelemetry-instrumentation-0.51b0 opentelemetry-instrumentation-asgi-0.51b0 opentelemetry-instrumentation-fastapi-0.51b0 opentelemetry-proto-1.30.0 opentelemetry-sdk-1.30.0 opentelemetry-semantic-conventions-0.51b0 opentelemetry-util-http-0.51b0 overrides-7.7.0 posthog-3.14.2 protobuf-5.29.3 pypika-0.48.9 pyproject_hooks-1.2.0 python-dotenv-1.0.1 starlette-0.45.3 uvicorn-0.34.0 uvloop-0.21.0 watchfiles-1.0.4\n"
          ]
        },
        {
          "data": {
            "application/vnd.colab-display-data+json": {
              "id": "9a8095bb0b4243c593a2fbf7626c2314",
              "pip_warning": {
                "packages": [
                  "importlib_metadata"
                ]
              }
            }
          },
          "metadata": {},
          "output_type": "display_data"
        },
        {
          "name": "stdout",
          "output_type": "stream",
          "text": [
            "Requirement already satisfied: langchain in /usr/local/lib/python3.11/dist-packages (0.3.18)\n",
            "Requirement already satisfied: langchain-core<1.0.0,>=0.3.34 in /usr/local/lib/python3.11/dist-packages (from langchain) (0.3.35)\n",
            "Requirement already satisfied: langchain-text-splitters<1.0.0,>=0.3.6 in /usr/local/lib/python3.11/dist-packages (from langchain) (0.3.6)\n",
            "Requirement already satisfied: langsmith<0.4,>=0.1.17 in /usr/local/lib/python3.11/dist-packages (from langchain) (0.3.8)\n",
            "Requirement already satisfied: pydantic<3.0.0,>=2.7.4 in /usr/local/lib/python3.11/dist-packages (from langchain) (2.10.6)\n",
            "Requirement already satisfied: SQLAlchemy<3,>=1.4 in /usr/local/lib/python3.11/dist-packages (from langchain) (2.0.38)\n",
            "Requirement already satisfied: requests<3,>=2 in /usr/local/lib/python3.11/dist-packages (from langchain) (2.32.3)\n",
            "Requirement already satisfied: PyYAML>=5.3 in /usr/local/lib/python3.11/dist-packages (from langchain) (6.0.2)\n",
            "Requirement already satisfied: aiohttp<4.0.0,>=3.8.3 in /usr/local/lib/python3.11/dist-packages (from langchain) (3.11.12)\n",
            "Requirement already satisfied: tenacity!=8.4.0,<10,>=8.1.0 in /usr/local/lib/python3.11/dist-packages (from langchain) (9.0.0)\n",
            "Requirement already satisfied: numpy<2,>=1.26.4 in /usr/local/lib/python3.11/dist-packages (from langchain) (1.26.4)\n",
            "Requirement already satisfied: aiohappyeyeballs>=2.3.0 in /usr/local/lib/python3.11/dist-packages (from aiohttp<4.0.0,>=3.8.3->langchain) (2.4.6)\n",
            "Requirement already satisfied: aiosignal>=1.1.2 in /usr/local/lib/python3.11/dist-packages (from aiohttp<4.0.0,>=3.8.3->langchain) (1.3.2)\n",
            "Requirement already satisfied: attrs>=17.3.0 in /usr/local/lib/python3.11/dist-packages (from aiohttp<4.0.0,>=3.8.3->langchain) (25.1.0)\n",
            "Requirement already satisfied: frozenlist>=1.1.1 in /usr/local/lib/python3.11/dist-packages (from aiohttp<4.0.0,>=3.8.3->langchain) (1.5.0)\n",
            "Requirement already satisfied: multidict<7.0,>=4.5 in /usr/local/lib/python3.11/dist-packages (from aiohttp<4.0.0,>=3.8.3->langchain) (6.1.0)\n",
            "Requirement already satisfied: propcache>=0.2.0 in /usr/local/lib/python3.11/dist-packages (from aiohttp<4.0.0,>=3.8.3->langchain) (0.2.1)\n",
            "Requirement already satisfied: yarl<2.0,>=1.17.0 in /usr/local/lib/python3.11/dist-packages (from aiohttp<4.0.0,>=3.8.3->langchain) (1.18.3)\n",
            "Requirement already satisfied: jsonpatch<2.0,>=1.33 in /usr/local/lib/python3.11/dist-packages (from langchain-core<1.0.0,>=0.3.34->langchain) (1.33)\n",
            "Requirement already satisfied: packaging<25,>=23.2 in /usr/local/lib/python3.11/dist-packages (from langchain-core<1.0.0,>=0.3.34->langchain) (24.2)\n",
            "Requirement already satisfied: typing-extensions>=4.7 in /usr/local/lib/python3.11/dist-packages (from langchain-core<1.0.0,>=0.3.34->langchain) (4.12.2)\n",
            "Requirement already satisfied: httpx<1,>=0.23.0 in /usr/local/lib/python3.11/dist-packages (from langsmith<0.4,>=0.1.17->langchain) (0.28.1)\n",
            "Requirement already satisfied: orjson<4.0.0,>=3.9.14 in /usr/local/lib/python3.11/dist-packages (from langsmith<0.4,>=0.1.17->langchain) (3.10.15)\n",
            "Requirement already satisfied: requests-toolbelt<2.0.0,>=1.0.0 in /usr/local/lib/python3.11/dist-packages (from langsmith<0.4,>=0.1.17->langchain) (1.0.0)\n",
            "Requirement already satisfied: zstandard<0.24.0,>=0.23.0 in /usr/local/lib/python3.11/dist-packages (from langsmith<0.4,>=0.1.17->langchain) (0.23.0)\n",
            "Requirement already satisfied: annotated-types>=0.6.0 in /usr/local/lib/python3.11/dist-packages (from pydantic<3.0.0,>=2.7.4->langchain) (0.7.0)\n",
            "Requirement already satisfied: pydantic-core==2.27.2 in /usr/local/lib/python3.11/dist-packages (from pydantic<3.0.0,>=2.7.4->langchain) (2.27.2)\n",
            "Requirement already satisfied: charset-normalizer<4,>=2 in /usr/local/lib/python3.11/dist-packages (from requests<3,>=2->langchain) (3.4.1)\n",
            "Requirement already satisfied: idna<4,>=2.5 in /usr/local/lib/python3.11/dist-packages (from requests<3,>=2->langchain) (3.10)\n",
            "Requirement already satisfied: urllib3<3,>=1.21.1 in /usr/local/lib/python3.11/dist-packages (from requests<3,>=2->langchain) (2.3.0)\n",
            "Requirement already satisfied: certifi>=2017.4.17 in /usr/local/lib/python3.11/dist-packages (from requests<3,>=2->langchain) (2025.1.31)\n",
            "Requirement already satisfied: greenlet!=0.4.17 in /usr/local/lib/python3.11/dist-packages (from SQLAlchemy<3,>=1.4->langchain) (3.1.1)\n",
            "Requirement already satisfied: anyio in /usr/local/lib/python3.11/dist-packages (from httpx<1,>=0.23.0->langsmith<0.4,>=0.1.17->langchain) (3.7.1)\n",
            "Requirement already satisfied: httpcore==1.* in /usr/local/lib/python3.11/dist-packages (from httpx<1,>=0.23.0->langsmith<0.4,>=0.1.17->langchain) (1.0.7)\n",
            "Requirement already satisfied: h11<0.15,>=0.13 in /usr/local/lib/python3.11/dist-packages (from httpcore==1.*->httpx<1,>=0.23.0->langsmith<0.4,>=0.1.17->langchain) (0.14.0)\n",
            "Requirement already satisfied: jsonpointer>=1.9 in /usr/local/lib/python3.11/dist-packages (from jsonpatch<2.0,>=1.33->langchain-core<1.0.0,>=0.3.34->langchain) (3.0.0)\n",
            "Requirement already satisfied: sniffio>=1.1 in /usr/local/lib/python3.11/dist-packages (from anyio->httpx<1,>=0.23.0->langsmith<0.4,>=0.1.17->langchain) (1.3.1)\n",
            "Requirement already satisfied: openai in /usr/local/lib/python3.11/dist-packages (1.61.1)\n",
            "Requirement already satisfied: anyio<5,>=3.5.0 in /usr/local/lib/python3.11/dist-packages (from openai) (3.7.1)\n",
            "Requirement already satisfied: distro<2,>=1.7.0 in /usr/local/lib/python3.11/dist-packages (from openai) (1.9.0)\n",
            "Requirement already satisfied: httpx<1,>=0.23.0 in /usr/local/lib/python3.11/dist-packages (from openai) (0.28.1)\n",
            "Requirement already satisfied: jiter<1,>=0.4.0 in /usr/local/lib/python3.11/dist-packages (from openai) (0.8.2)\n",
            "Requirement already satisfied: pydantic<3,>=1.9.0 in /usr/local/lib/python3.11/dist-packages (from openai) (2.10.6)\n",
            "Requirement already satisfied: sniffio in /usr/local/lib/python3.11/dist-packages (from openai) (1.3.1)\n",
            "Requirement already satisfied: tqdm>4 in /usr/local/lib/python3.11/dist-packages (from openai) (4.67.1)\n",
            "Requirement already satisfied: typing-extensions<5,>=4.11 in /usr/local/lib/python3.11/dist-packages (from openai) (4.12.2)\n",
            "Requirement already satisfied: idna>=2.8 in /usr/local/lib/python3.11/dist-packages (from anyio<5,>=3.5.0->openai) (3.10)\n",
            "Requirement already satisfied: certifi in /usr/local/lib/python3.11/dist-packages (from httpx<1,>=0.23.0->openai) (2025.1.31)\n",
            "Requirement already satisfied: httpcore==1.* in /usr/local/lib/python3.11/dist-packages (from httpx<1,>=0.23.0->openai) (1.0.7)\n",
            "Requirement already satisfied: h11<0.15,>=0.13 in /usr/local/lib/python3.11/dist-packages (from httpcore==1.*->httpx<1,>=0.23.0->openai) (0.14.0)\n",
            "Requirement already satisfied: annotated-types>=0.6.0 in /usr/local/lib/python3.11/dist-packages (from pydantic<3,>=1.9.0->openai) (0.7.0)\n",
            "Requirement already satisfied: pydantic-core==2.27.2 in /usr/local/lib/python3.11/dist-packages (from pydantic<3,>=1.9.0->openai) (2.27.2)\n",
            "Requirement already satisfied: requests in /usr/local/lib/python3.11/dist-packages (2.32.3)\n",
            "Requirement already satisfied: charset-normalizer<4,>=2 in /usr/local/lib/python3.11/dist-packages (from requests) (3.4.1)\n",
            "Requirement already satisfied: idna<4,>=2.5 in /usr/local/lib/python3.11/dist-packages (from requests) (3.10)\n",
            "Requirement already satisfied: urllib3<3,>=1.21.1 in /usr/local/lib/python3.11/dist-packages (from requests) (2.3.0)\n",
            "Requirement already satisfied: certifi>=2017.4.17 in /usr/local/lib/python3.11/dist-packages (from requests) (2025.1.31)\n"
          ]
        }
      ],
      "source": [
        "!pip install chromadb\n",
        "!pip install langchain\n",
        "!pip install openai\n",
        "!pip install requests"
      ]
    },
    {
      "cell_type": "code",
      "execution_count": 2,
      "id": "4ca55e76",
      "metadata": {
        "id": "4ca55e76"
      },
      "outputs": [],
      "source": [
        "import chromadb"
      ]
    },
    {
      "cell_type": "code",
      "execution_count": 3,
      "id": "82a9d306",
      "metadata": {
        "id": "82a9d306"
      },
      "outputs": [],
      "source": [
        "from langchain.text_splitter import RecursiveCharacterTextSplitter"
      ]
    },
    {
      "cell_type": "code",
      "execution_count": 4,
      "id": "a9378e93",
      "metadata": {
        "id": "a9378e93"
      },
      "outputs": [],
      "source": [
        "from openai import OpenAI\n",
        "\n",
        "book_metadata =  {\n",
        "        \"title\": \"The Great Gatsby\",\n",
        "        \"author\" : \"F. Scott Fitzgerald\",\n",
        "        \"source_url\": \"https://www.gutenberg.org/cache/epub/64317/pg64317.txt\",\n",
        "        \"filename\": \"pg64317.txt\"\n",
        "  }"
      ]
    },
    {
      "cell_type": "markdown",
      "id": "079e0e0c",
      "metadata": {
        "id": "079e0e0c"
      },
      "source": [
        "#### Checkpoint 1/3\n",
        "\n",
        "First, initialize the OpenAI client assigned to `client_openai` by calling `OpenAI()`.\n",
        "\n",
        "Then, call the client's `.chat.completions.create()` method and pass it the following values:\n",
        "\n",
        "- for `model`, pass `\"gpt-4\"`\n",
        "- for `messages`, pass a list containing two dicts:\n",
        "    - one dict with the `\"role\"` key `\"system\"` and the `\"content\"` key `\"You are a helpful assistant connected to a database for document search.\"`\n",
        "    - one dict with the `\"role\"` key `\"user\"` and the `\"content\"` key `prompt`\n",
        "\n",
        "This `get_completion` helper function will make it easy for us to prompt the model throughout the lesson.\n",
        "\n",
        "Don't forget to run the cell and save the notebook before selecting `Test Work`! Open the `Jupyter Help` toggle at the top of the notebook for more details."
      ]
    },
    {
      "cell_type": "code",
      "execution_count": 5,
      "id": "b318baec",
      "metadata": {
        "deletable": false,
        "id": "b318baec",
        "tags": [
          "cp1"
        ]
      },
      "outputs": [],
      "source": [
        "## YOUR SOLUTION HERE ##\n",
        "client_openai = OpenAI(config.RAG_API_KEY)\n",
        "\n",
        "def get_completion(prompt):\n",
        "    ## YOUR SOLUTION HERE ##\n",
        "    response = client_openai.chat.completions.create(\n",
        "        model= \"gpt-4\",\n",
        "        messages=[\n",
        "            {\"role\":\"system\", \"content\": \"You're a helpful assistant who retrieves information from external sources and presents them to the user.\"},\n",
        "            {\"role\": \"user\", \"content\": prompt},\n",
        "        ]\n",
        "    )\n",
        "    return response.choices[0].message.content\n"
      ]
    },
    {
      "cell_type": "markdown",
      "id": "a4460c1d",
      "metadata": {
        "id": "a4460c1d"
      },
      "source": [
        "#### Chunking the Document\n",
        "\n",
        "In the next cell, we'll initialize a recursive text splitter and create chunks of our text with it.\n",
        "\n",
        "Be sure to execute this cell before moving onto the next checkpoint."
      ]
    },
    {
      "cell_type": "code",
      "execution_count": 6,
      "id": "188e995d",
      "metadata": {
        "id": "188e995d"
      },
      "outputs": [],
      "source": [
        "import os\n",
        "import requests"
      ]
    },
    {
      "cell_type": "code",
      "execution_count": 7,
      "id": "7db039ed",
      "metadata": {
        "id": "7db039ed"
      },
      "outputs": [],
      "source": [
        "r = requests.get(r'https://www.gutenberg.org/cache/epub/64317/pg64317.txt')\n",
        "great_gatsby = r.text"
      ]
    },
    {
      "cell_type": "code",
      "execution_count": 8,
      "id": "3aac44ee",
      "metadata": {
        "colab": {
          "base_uri": "https://localhost:8080/"
        },
        "id": "3aac44ee",
        "outputId": "f12842a5-9241-41f5-a676-69fd36d7c3f1"
      },
      "outputs": [
        {
          "name": "stdout",
          "output_type": "stream",
          "text": [
            "as Parke d’Invilliers\r\n",
            "\r\n",
            "\r\n",
            "                                  I\r\n",
            "\r\n",
            "In my younger and more vulnerable years my father gave me some advice\r\n",
            "that I’ve been turning over in my mind ever since.\r\n",
            "\r\n",
            "“Whenever you feel like criticizing anyone,” he told me, “just\r\n",
            "remember that all the people in this world haven’t had the advantages\r\n",
            "that you’ve had.”\r\n",
            "\r\n",
            "He didn’t say any more, but we’ve always been unusually communicative\r\n",
            "in a reserved way, and I understood that he meant a great deal more\r\n",
            "than that. In\n"
          ]
        }
      ],
      "source": [
        "great_gatsby = great_gatsby[1433:277912]\n",
        "print(great_gatsby[:500])"
      ]
    },
    {
      "cell_type": "code",
      "execution_count": 9,
      "id": "3c479992",
      "metadata": {
        "id": "3c479992"
      },
      "outputs": [],
      "source": [
        "text_splitter = RecursiveCharacterTextSplitter(\n",
        "    separators=[\". \", \"? \", \"! \"],\n",
        "    chunk_size=2000,\n",
        "    chunk_overlap=300,\n",
        ")\n",
        "# with open(\"themind.txt\", \"r\") as file:\n",
        "#     content = file.read()\n",
        "# chunks = text_splitter.create_documents([content])\n",
        "\n",
        "chunks_gatsby = text_splitter.create_documents([great_gatsby])\n",
        "\n"
      ]
    },
    {
      "cell_type": "code",
      "execution_count": 10,
      "id": "7831ca03",
      "metadata": {
        "colab": {
          "base_uri": "https://localhost:8080/"
        },
        "id": "7831ca03",
        "outputId": "f731cf15-4136-4c8c-a3ac-531c5ea04394"
      },
      "outputs": [
        {
          "name": "stdout",
          "output_type": "stream",
          "text": [
            " 'The Great Gatsby' - First Chunk:\n",
            "as Parke d’Invilliers\r\n",
            "\r\n",
            "\r\n",
            "                                  I\r\n",
            "\r\n",
            "In my younger and more vulnerable years my father gave me some advice\r\n",
            "that I’ve been turning over in my mind ever since.\r\n",
            "\r\n",
            "“Whenever you feel like criticizing anyone,” he told me, “just\r\n",
            "remember that all the people in this world haven’t had the advantages\r\n",
            "that you’ve had.”\r\n",
            "\r\n",
            "He didn’t say any more, but we’ve always been unusually communicative\r\n",
            "in a reserved way, and I understood that he meant a great deal more\r\n",
            "than that. In consequence, I’m inclined to reserve all judgements, a\r\n",
            "habit that has opened up many curious natures to me and also made me\r\n",
            "the victim of not a few veteran bores. The abnormal mind is quick to\r\n",
            "detect and attach itself to this quality when it appears in a normal\r\n",
            "person, and so it came about that in college I was unjustly accused of\r\n",
            "being a politician, because I was privy to the secret griefs of wild,\r\n",
            "unknown men. Most of the confidences were unsought—frequently I have\r\n",
            "feigned sleep, preoccupation, or a hostile levity when I realized by\r\n",
            "some unmistakable sign that an intimate revelation was quivering on\r\n",
            "the horizon; for the intimate revelations of young men, or at least\r\n",
            "the terms in which they express them, are usually plagiaristic and\r\n",
            "marred by obvious suppressions. Reserving judgements is a matter of\r\n",
            "infinite hope. I am still a little afraid of missing something if I\r\n",
            "forget that, as my father snobbishly suggested, and I snobbishly\r\n",
            "repeat, a sense of the fundamental decencies is parcelled out\r\n",
            "unequally at birth.\r\n",
            "\r\n",
            "And, after boasting this way of my tolerance, I come to the admission\r\n",
            "that it has a limit. Conduct may be founded on the hard rock or the\r\n",
            "wet marshes, but after a certain point I don’t care what it’s founded\r\n",
            "on. When I came back from the East last autumn I felt that I wanted\r\n",
            "the world to be in uniform and at a sort of moral attention forever; I\r\n",
            "wanted no more riotous excursions with privileged glimpses into the\r\n",
            "human heart\n",
            "\n"
          ]
        }
      ],
      "source": [
        "print(f\" 'The Great Gatsby' - First Chunk:\\n{chunks_gatsby[0].page_content}\\n\")"
      ]
    },
    {
      "cell_type": "markdown",
      "id": "6a172e5e",
      "metadata": {
        "id": "6a172e5e"
      },
      "source": [
        "#### Checkpoint 2/3\n",
        "Now we will create a new persistent Chroma collection.\n",
        "\n",
        "Use Chroma's `.PersistentClient()` method to initialize a database that will persist throughout the lesson. Pass the method the desired route to our collection, `\"./advanced\"`.\n",
        "\n",
        "Then use the Chroma client's `.get_or_create_collection()` method. Pass the method the `name` `\"advanced\"` and indicate we'll use cosine similarity with `metadata={\"hnsw:space\": \"cosine\"}`.\n",
        "\n",
        "Fill in the missing sections of the cell.\n",
        "\n",
        "Don't forget to run the cell and save the notebook before selecting `Test Work`! Open the `Jupyter Help` toggle at the top of the notebook for more details."
      ]
    },
    {
      "cell_type": "code",
      "execution_count": 11,
      "id": "e73ed471",
      "metadata": {
        "colab": {
          "base_uri": "https://localhost:8080/"
        },
        "deletable": false,
        "id": "e73ed471",
        "outputId": "01215fef-9110-4863-b039-3245030269dd",
        "tags": [
          "cp2"
        ]
      },
      "outputs": [
        {
          "name": "stdout",
          "output_type": "stream",
          "text": [
            "ChromaDB collection ['advanced']\n"
          ]
        }
      ],
      "source": [
        "## YOUR SOLUTION HERE ##\n",
        "client_chroma = chromadb.PersistentClient(path=\"./advanced\")\n",
        "collection = client_chroma.get_or_create_collection(name = \"advanced\", metadata = {\"hnsw:space\": \"cosine\"})\n",
        "\n",
        "print(f\"ChromaDB collection {client_chroma.list_collections()}\")"
      ]
    },
    {
      "cell_type": "markdown",
      "id": "7bebeb1b",
      "metadata": {
        "id": "7bebeb1b"
      },
      "source": [
        "#### Uploading the chunks\n",
        "\n",
        "Now that our collection is initialized we can upload to it the chunks we made earlier.\n",
        "\n",
        "We enumerate through the list of chunks, accessing the chunk's text in `chunk.page_content`, then add a chunk index to its metadata and upload the document, its id, and its metadata to our Chroma collection.\n",
        "\n",
        "Be sure to execute this cell before moving on to the next one."
      ]
    },
    {
      "cell_type": "code",
      "execution_count": 12,
      "id": "eb3785ab",
      "metadata": {
        "colab": {
          "base_uri": "https://localhost:8080/"
        },
        "id": "eb3785ab",
        "outputId": "1c97b9f5-530c-4815-a2c0-ba4145f20510"
      },
      "outputs": [
        {
          "name": "stderr",
          "output_type": "stream",
          "text": [
            "/root/.cache/chroma/onnx_models/all-MiniLM-L6-v2/onnx.tar.gz: 100%|██████████| 79.3M/79.3M [00:02<00:00, 29.6MiB/s]\n"
          ]
        }
      ],
      "source": [
        "N = 150\n",
        "for idx, chunk in enumerate(chunks_gatsby[:N]):\n",
        "    doc_text = chunk.page_content\n",
        "    book_metadata[\"chunk_idx\"] = idx\n",
        "    collection.add(\n",
        "        documents=[doc_text],\n",
        "        ids=[f\"{book_metadata['title']}_{idx}\"],\n",
        "        metadatas=[book_metadata]\n",
        "    )"
      ]
    },
    {
      "cell_type": "markdown",
      "id": "d72500dc",
      "metadata": {
        "id": "d72500dc"
      },
      "source": [
        "#### Formatting the search results\n",
        "Now we'll define a helper function that takes a user query and returns a well-formatted, pseudo-XML string of the search results. This will make it easier to experiment throughout the lesson.\n",
        "\n",
        "Don't forget to execute this cell before moving on."
      ]
    },
    {
      "cell_type": "code",
      "execution_count": 13,
      "id": "8a02d30e",
      "metadata": {
        "id": "8a02d30e"
      },
      "outputs": [],
      "source": [
        "def populate_rag_query(query, n_results=1):\n",
        "    search_results = collection.query(query_texts=[query], n_results=n_results)\n",
        "    result_str = \"\"\n",
        "    for idx, result in enumerate(search_results[\"documents\"][0]):\n",
        "        metadata = search_results[\"metadatas\"][0][idx]\n",
        "        formatted_result = f\"\"\"<SEARCH RESULT>\n",
        "        <DOCUMENT>{result}</DOCUMENT>\n",
        "        <METADATA>\n",
        "        <TITLE>{metadata['title']}</TITLE>\n",
        "        <AUTHOR>{metadata['author']}</AUTHOR>\n",
        "        <CHUNK_IDX>{metadata['chunk_idx']}</CHUNK_IDX>\n",
        "        <URL>{metadata['source_url']}</URL>\n",
        "        </METADATA>\n",
        "        </SEARCH RESULT>\"\"\"\n",
        "        result_str += formatted_result\n",
        "    return result_str"
      ]
    },
    {
      "cell_type": "markdown",
      "id": "8d481799",
      "metadata": {
        "id": "8d481799"
      },
      "source": [
        "#### Checkpoint 3/3\n",
        "\n",
        "Finally, create the RAG prompt to send to the LLM.\n",
        "\n",
        "Write out the instructions to the model in your own words in the `<INSTRUCTIONS>` section.\n",
        "\n",
        "Consider how you might guide the model to:\n",
        " - Use the search results effectively\n",
        " - Handle cases where information isn't available\n",
        " - Provide credibility to its answers by citing sources\n",
        "\n",
        "Note we've included a  `<EXAMPLE CITATION>` that can show the model how its cited sources should look.\n",
        "\n",
        "To wrap it up, pass the correct variables in the `<USER QUERY>` and `<SEARCH RESULTS>` sections to finish the function.\n",
        "\n",
        "Don't forget to run the cell and save the notebook before selecting `Test Work`! Open the `Jupyter Help` toggle at the top of the notebook for more details.\n"
      ]
    },
    {
      "cell_type": "code",
      "execution_count": 14,
      "id": "4ddf801b",
      "metadata": {
        "deletable": false,
        "id": "4ddf801b",
        "tags": [
          "cp3"
        ]
      },
      "outputs": [],
      "source": [
        "def make_rag_prompt(query, results):\n",
        "    return f\"\"\"<INSTRUCTIONS>\n",
        "   <EXAMPLE CITATION>\n",
        "   Answer to the user query in your own words, drawn from the search results.\n",
        "   - \"Direct quote from source material backing up the claim\" - [Source: Title, Author, Chunk: chunk index, Link: url]\n",
        "   </EXAMPLE CITATION>\n",
        "   </INSTRUCTIONS>\n",
        "\n",
        "    <USER QUERY>\n",
        "    {query}\n",
        "    </USER QUERY>\n",
        "\n",
        "    <SEARCH RESULTS>\n",
        "    {results}\n",
        "    </SEARCH RESULTS>\n",
        "\n",
        "    Your answer:\"\"\""
      ]
    },
    {
      "cell_type": "code",
      "execution_count": 15,
      "id": "uP7k7XmBEhvA",
      "metadata": {
        "colab": {
          "base_uri": "https://localhost:8080/"
        },
        "id": "uP7k7XmBEhvA",
        "outputId": "d27b1934-4253-4265-efdb-24a395d0b136"
      },
      "outputs": [
        {
          "data": {
            "text/plain": [
              "{'ids': ['The Great Gatsby_10'],\n",
              " 'embeddings': None,\n",
              " 'documents': ['. Her grey sun-strained eyes looked\\r\\nback at me with polite reciprocal curiosity out of a wan, charming,\\r\\ndiscontented face. It occurred to me now that I had seen her, or a\\r\\npicture of her, somewhere before.\\r\\n\\r\\n“You live in West Egg,” she remarked contemptuously. “I know somebody\\r\\nthere.”\\r\\n\\r\\n“I don’t know a single—”\\r\\n\\r\\n“You must know Gatsby.”\\r\\n\\r\\n“Gatsby?” demanded Daisy. “What Gatsby?”\\r\\n\\r\\nBefore I could reply that he was my neighbour dinner was announced;\\r\\nwedging his tense arm imperatively under mine, Tom Buchanan compelled\\r\\nme from the room as though he were moving a checker to another square.\\r\\n\\r\\nSlenderly, languidly, their hands set lightly on their hips, the two\\r\\nyoung women preceded us out on to a rosy-coloured porch, open toward\\r\\nthe sunset, where four candles flickered on the table in the\\r\\ndiminished wind.\\r\\n\\r\\n“Why candles?” objected Daisy, frowning. She snapped them out with her\\r\\nfingers. “In two weeks it’ll be the longest day in the year.” She\\r\\nlooked at us all radiantly. “Do you always watch for the longest day\\r\\nof the year and then miss it? I always watch for the longest day in\\r\\nthe year and then miss it.”\\r\\n\\r\\n“We ought to plan something,” yawned Miss Baker, sitting down at the\\r\\ntable as if she were getting into bed.\\r\\n\\r\\n“All right,” said Daisy. “What’ll we plan?” She turned to me\\r\\nhelplessly: “What do people plan?”\\r\\n\\r\\nBefore I could answer her eyes fastened with an awed expression on her\\r\\nlittle finger.\\r\\n\\r\\n“Look!” she complained; “I hurt it.”\\r\\n\\r\\nWe all looked—the knuckle was black and blue.\\r\\n\\r\\n“You did it, Tom,” she said accusingly. “I know you didn’t mean to,\\r\\nbut you did do it'],\n",
              " 'uris': None,\n",
              " 'data': None,\n",
              " 'metadatas': [{'author': 'F. Scott Fitzgerald',\n",
              "   'chunk_idx': 10,\n",
              "   'filename': 'pg64317.txt',\n",
              "   'source_url': 'https://www.gutenberg.org/cache/epub/64317/pg64317.txt',\n",
              "   'title': 'The Great Gatsby'}],\n",
              " 'included': [<IncludeEnum.documents: 'documents'>,\n",
              "  <IncludeEnum.metadatas: 'metadatas'>]}"
            ]
          },
          "execution_count": 15,
          "metadata": {},
          "output_type": "execute_result"
        }
      ],
      "source": [
        "#get method is used to retrieve info from a collection\n",
        "\n",
        "collection.get('The Great Gatsby_10')"
      ]
    },
    {
      "cell_type": "code",
      "execution_count": 16,
      "id": "1GEcH-vSIMZf",
      "metadata": {
        "colab": {
          "base_uri": "https://localhost:8080/"
        },
        "id": "1GEcH-vSIMZf",
        "outputId": "17febafb-2490-4a2d-aaaf-c0cbca6537d4"
      },
      "outputs": [
        {
          "data": {
            "text/plain": [
              "{'ids': [],\n",
              " 'embeddings': None,\n",
              " 'documents': [],\n",
              " 'uris': None,\n",
              " 'data': None,\n",
              " 'metadatas': [],\n",
              " 'included': [<IncludeEnum.documents: 'documents'>,\n",
              "  <IncludeEnum.metadatas: 'metadatas'>]}"
            ]
          },
          "execution_count": 16,
          "metadata": {},
          "output_type": "execute_result"
        }
      ],
      "source": [
        "collection.get(where={\"chunk_idx\": { \"$eq\":151}})\n",
        "#with the unexistent id and it will return everything empty"
      ]
    },
    {
      "cell_type": "code",
      "execution_count": 17,
      "id": "YsmCFDzwI5y7",
      "metadata": {
        "colab": {
          "base_uri": "https://localhost:8080/"
        },
        "id": "YsmCFDzwI5y7",
        "outputId": "1f51d0f4-acff-415b-b941-a907f3e6a549"
      },
      "outputs": [
        {
          "data": {
            "text/plain": [
              "{'ids': ['The Great Gatsby_10'],\n",
              " 'embeddings': None,\n",
              " 'documents': ['. Her grey sun-strained eyes looked\\r\\nback at me with polite reciprocal curiosity out of a wan, charming,\\r\\ndiscontented face. It occurred to me now that I had seen her, or a\\r\\npicture of her, somewhere before.\\r\\n\\r\\n“You live in West Egg,” she remarked contemptuously. “I know somebody\\r\\nthere.”\\r\\n\\r\\n“I don’t know a single—”\\r\\n\\r\\n“You must know Gatsby.”\\r\\n\\r\\n“Gatsby?” demanded Daisy. “What Gatsby?”\\r\\n\\r\\nBefore I could reply that he was my neighbour dinner was announced;\\r\\nwedging his tense arm imperatively under mine, Tom Buchanan compelled\\r\\nme from the room as though he were moving a checker to another square.\\r\\n\\r\\nSlenderly, languidly, their hands set lightly on their hips, the two\\r\\nyoung women preceded us out on to a rosy-coloured porch, open toward\\r\\nthe sunset, where four candles flickered on the table in the\\r\\ndiminished wind.\\r\\n\\r\\n“Why candles?” objected Daisy, frowning. She snapped them out with her\\r\\nfingers. “In two weeks it’ll be the longest day in the year.” She\\r\\nlooked at us all radiantly. “Do you always watch for the longest day\\r\\nof the year and then miss it? I always watch for the longest day in\\r\\nthe year and then miss it.”\\r\\n\\r\\n“We ought to plan something,” yawned Miss Baker, sitting down at the\\r\\ntable as if she were getting into bed.\\r\\n\\r\\n“All right,” said Daisy. “What’ll we plan?” She turned to me\\r\\nhelplessly: “What do people plan?”\\r\\n\\r\\nBefore I could answer her eyes fastened with an awed expression on her\\r\\nlittle finger.\\r\\n\\r\\n“Look!” she complained; “I hurt it.”\\r\\n\\r\\nWe all looked—the knuckle was black and blue.\\r\\n\\r\\n“You did it, Tom,” she said accusingly. “I know you didn’t mean to,\\r\\nbut you did do it'],\n",
              " 'uris': None,\n",
              " 'data': None,\n",
              " 'metadatas': [{'author': 'F. Scott Fitzgerald',\n",
              "   'chunk_idx': 10,\n",
              "   'filename': 'pg64317.txt',\n",
              "   'source_url': 'https://www.gutenberg.org/cache/epub/64317/pg64317.txt',\n",
              "   'title': 'The Great Gatsby'}],\n",
              " 'included': [<IncludeEnum.documents: 'documents'>,\n",
              "  <IncludeEnum.metadatas: 'metadatas'>]}"
            ]
          },
          "execution_count": 17,
          "metadata": {},
          "output_type": "execute_result"
        }
      ],
      "source": [
        "collection.get(where={\"chunk_idx\": { \"$eq\":10}})\n"
      ]
    },
    {
      "cell_type": "code",
      "execution_count": 21,
      "id": "kG0ylDzuJLkq",
      "metadata": {
        "id": "kG0ylDzuJLkq"
      },
      "outputs": [],
      "source": [
        "def get_next_and_previous_chunks(chunk_idx):\n",
        "  previous_chunk = collection.get(where = {\"chunk_idx\": {\"$eq\": chunk_idx - 1}})\n",
        "  next_chunk =  collection.get(where = {\"chunk_idx\": {\"$eq\": chunk_idx + 1}})\n",
        " #passing chunk_idx to the where argument\n",
        "\n",
        "  return previous_chunk, next_chunk"
      ]
    },
    {
      "cell_type": "code",
      "execution_count": 24,
      "id": "BogpsatyLKyD",
      "metadata": {
        "colab": {
          "base_uri": "https://localhost:8080/"
        },
        "id": "BogpsatyLKyD",
        "outputId": "7cbf2c4f-d12e-4471-b7e3-40fef556e0d1"
      },
      "outputs": [
        {
          "name": "stdout",
          "output_type": "stream",
          "text": [
            "<SEARCH RESULT>\n",
            "            <DOCUMENT>. Tomorrow!” Then she added\r\n",
            "irrelevantly: “You ought to see the baby.”\r\n",
            "\r\n",
            "“I’d like to.”\r\n",
            "\r\n",
            "“She’s asleep. She’s three years old. Haven’t you ever seen her?”\r\n",
            "\r\n",
            "“Never.”\r\n",
            "\r\n",
            "“Well, you ought to see her. She’s—”\r\n",
            "\r\n",
            "Tom Buchanan, who had been hovering restlessly about the room, stopped\r\n",
            "and rested his hand on my shoulder.\r\n",
            "\r\n",
            "“What you doing, Nick?”\r\n",
            "\r\n",
            "“I’m a bond man.”\r\n",
            "\r\n",
            "“Who with?”\r\n",
            "\r\n",
            "I told him.\r\n",
            "\r\n",
            "“Never heard of them,” he remarked decisively.\r\n",
            "\r\n",
            "This annoyed me.\r\n",
            "\r\n",
            "“You will,” I answered shortly. “You will if you stay in the East.”\r\n",
            "\r\n",
            "“Oh, I’ll stay in the East, don’t you worry,” he said, glancing at\r\n",
            "Daisy and then back at me, as if he were alert for something\r\n",
            "more. “I’d be a God damned fool to live anywhere else.”\r\n",
            "\r\n",
            "At this point Miss Baker said: “Absolutely!” with such suddenness that\r\n",
            "I started—it was the first word she had uttered since I came into the\r\n",
            "room. Evidently it surprised her as much as it did me, for she yawned\r\n",
            "and with a series of rapid, deft movements stood up into the room.\r\n",
            "\r\n",
            "“I’m stiff,” she complained, “I’ve been lying on that sofa for as long\r\n",
            "as I can remember.”\r\n",
            "\r\n",
            "“Don’t look at me,” Daisy retorted, “I’ve been trying to get you to\r\n",
            "New York all afternoon.”\r\n",
            "\r\n",
            "“No, thanks,” said Miss Baker to the four cocktails just in from the\r\n",
            "pantry. “I’m absolutely in training.”\r\n",
            "\r\n",
            "Her host looked at her incredulously.\r\n",
            "\r\n",
            "“You are!” He took down his drink as if it were a drop in the bottom\r\n",
            "of a glass. “How you ever get anything done is beyond me.”\r\n",
            "\r\n",
            "I looked at Miss Baker, wondering what it was she “got done.” I\r\n",
            "enjoyed looking at her. She was a slender, small-breasted girl, with\r\n",
            "an erect carriage, which she accentuated by throwing her body backward\r\n",
            "at the shoulders like a young cadet. Her grey sun-strained eyes looked\r\n",
            "back at me with polite reciprocal curiosity out of a wan, charming,\r\n",
            "discontented face. It occurred to me now that I had seen her, or a\r\n",
            "picture of her, somewhere before.\r\n",
            "\r\n",
            "“You live in West Egg,” she remarked contemptuously</DOCUMENT>\n",
            "            <METADATA>\n",
            "            <TITLE>The Great Gatsby</TITLE>\n",
            "            <AUTHOR>F. Scott Fitzgerald</AUTHOR>\n",
            "            <CHUNK_IDX>9</CHUNK_IDX>\n",
            "            <URL>https://www.gutenberg.org/cache/epub/64317/pg64317.txt</URL>\n",
            "            </METADATA>\n",
            "            </SEARCH RESULT><SEARCH RESULT>\n",
            "            <DOCUMENT>. Her grey sun-strained eyes looked\r\n",
            "back at me with polite reciprocal curiosity out of a wan, charming,\r\n",
            "discontented face. It occurred to me now that I had seen her, or a\r\n",
            "picture of her, somewhere before.\r\n",
            "\r\n",
            "“You live in West Egg,” she remarked contemptuously. “I know somebody\r\n",
            "there.”\r\n",
            "\r\n",
            "“I don’t know a single—”\r\n",
            "\r\n",
            "“You must know Gatsby.”\r\n",
            "\r\n",
            "“Gatsby?” demanded Daisy. “What Gatsby?”\r\n",
            "\r\n",
            "Before I could reply that he was my neighbour dinner was announced;\r\n",
            "wedging his tense arm imperatively under mine, Tom Buchanan compelled\r\n",
            "me from the room as though he were moving a checker to another square.\r\n",
            "\r\n",
            "Slenderly, languidly, their hands set lightly on their hips, the two\r\n",
            "young women preceded us out on to a rosy-coloured porch, open toward\r\n",
            "the sunset, where four candles flickered on the table in the\r\n",
            "diminished wind.\r\n",
            "\r\n",
            "“Why candles?” objected Daisy, frowning. She snapped them out with her\r\n",
            "fingers. “In two weeks it’ll be the longest day in the year.” She\r\n",
            "looked at us all radiantly. “Do you always watch for the longest day\r\n",
            "of the year and then miss it? I always watch for the longest day in\r\n",
            "the year and then miss it.”\r\n",
            "\r\n",
            "“We ought to plan something,” yawned Miss Baker, sitting down at the\r\n",
            "table as if she were getting into bed.\r\n",
            "\r\n",
            "“All right,” said Daisy. “What’ll we plan?” She turned to me\r\n",
            "helplessly: “What do people plan?”\r\n",
            "\r\n",
            "Before I could answer her eyes fastened with an awed expression on her\r\n",
            "little finger.\r\n",
            "\r\n",
            "“Look!” she complained; “I hurt it.”\r\n",
            "\r\n",
            "We all looked—the knuckle was black and blue.\r\n",
            "\r\n",
            "“You did it, Tom,” she said accusingly. “I know you didn’t mean to,\r\n",
            "but you did do it</DOCUMENT>\n",
            "            <METADATA>\n",
            "            <TITLE>The Great Gatsby</TITLE>\n",
            "            <AUTHOR>F. Scott Fitzgerald</AUTHOR>\n",
            "            <CHUNK_IDX>10</CHUNK_IDX>\n",
            "            <URL>https://www.gutenberg.org/cache/epub/64317/pg64317.txt</URL>\n",
            "            </METADATA>\n",
            "            </SEARCH RESULT><SEARCH RESULT>\n",
            "            <DOCUMENT>. “I know you didn’t mean to,\r\n",
            "but you did do it. That’s what I get for marrying a brute of a man, a\r\n",
            "great, big, hulking physical specimen of a—”\r\n",
            "\r\n",
            "“I hate that word ‘hulking,’ ” objected Tom crossly, “even in\r\n",
            "kidding.”\r\n",
            "\r\n",
            "“Hulking,” insisted Daisy.\r\n",
            "\r\n",
            "Sometimes she and Miss Baker talked at once, unobtrusively and with a\r\n",
            "bantering inconsequence that was never quite chatter, that was as cool\r\n",
            "as their white dresses and their impersonal eyes in the absence of all\r\n",
            "desire. They were here, and they accepted Tom and me, making only a\r\n",
            "polite pleasant effort to entertain or to be entertained. They knew\r\n",
            "that presently dinner would be over and a little later the evening too\r\n",
            "would be over and casually put away. It was sharply different from the\r\n",
            "West, where an evening was hurried from phase to phase towards its\r\n",
            "close, in a continually disappointed anticipation or else in sheer\r\n",
            "nervous dread of the moment itself.\r\n",
            "\r\n",
            "“You make me feel uncivilized, Daisy,” I confessed on my second glass\r\n",
            "of corky but rather impressive claret. “Can’t you talk about crops or\r\n",
            "something?”\r\n",
            "\r\n",
            "I meant nothing in particular by this remark, but it was taken up in\r\n",
            "an unexpected way.\r\n",
            "\r\n",
            "“Civilization’s going to pieces,” broke out Tom violently. “I’ve\r\n",
            "gotten to be a terrible pessimist about things. Have you read The Rise\r\n",
            "of the Coloured Empires by this man Goddard?”\r\n",
            "\r\n",
            "“Why, no,” I answered, rather surprised by his tone.\r\n",
            "\r\n",
            "“Well, it’s a fine book, and everybody ought to read it. The idea is\r\n",
            "if we don’t look out the white race will be—will be utterly\r\n",
            "submerged. It’s all scientific stuff; it’s been proved.”\r\n",
            "\r\n",
            "“Tom’s getting very profound,” said Daisy, with an expression of\r\n",
            "unthoughtful sadness. “He reads deep books with long words in\r\n",
            "them. What was that word we—”\r\n",
            "\r\n",
            "“Well, these books are all scientific,” insisted Tom, glancing at her\r\n",
            "impatiently. “This fellow has worked out the whole thing</DOCUMENT>\n",
            "            <METADATA>\n",
            "            <TITLE>The Great Gatsby</TITLE>\n",
            "            <AUTHOR>F. Scott Fitzgerald</AUTHOR>\n",
            "            <CHUNK_IDX>11</CHUNK_IDX>\n",
            "            <URL>https://www.gutenberg.org/cache/epub/64317/pg64317.txt</URL>\n",
            "            </METADATA>\n",
            "            </SEARCH RESULT>\n"
          ]
        }
      ],
      "source": [
        "def expanded_search_results(original_chunk):\n",
        "    original_chunk_idx = original_chunk[\"metadatas\"][0][\"chunk_idx\"]\n",
        "    previous_chunk, next_chunk = get_next_and_previous_chunks(original_chunk_idx)\n",
        "    result_str = \"\"\n",
        "    for chunk in [previous_chunk, original_chunk, next_chunk]:\n",
        "        if len(chunk[\"metadatas\"])>0:\n",
        "            metadata = chunk[\"metadatas\"][0]\n",
        "            formatted_result = f\"\"\"<SEARCH RESULT>\n",
        "            <DOCUMENT>{chunk[\"documents\"][0]}</DOCUMENT>\n",
        "            <METADATA>\n",
        "            <TITLE>{metadata[\"title\"]}</TITLE>\n",
        "            <AUTHOR>{metadata[\"author\"]}</AUTHOR>\n",
        "            <CHUNK_IDX>{metadata[\"chunk_idx\"]}</CHUNK_IDX>\n",
        "            <URL>{metadata[\"source_url\"]}</URL>\n",
        "            </METADATA>\n",
        "            </SEARCH RESULT>\"\"\"\n",
        "            result_str += formatted_result\n",
        "    return result_str\n",
        "\n",
        "original_demo_chunk = collection.get(where={\"chunk_idx\": {\"$eq\": 10}})\n",
        "expanded_results = expanded_search_results(original_demo_chunk)\n",
        "print(expanded_results)"
      ]
    },
    {
      "cell_type": "code",
      "execution_count": 26,
      "id": "lUmWL0N0PMdO",
      "metadata": {
        "colab": {
          "base_uri": "https://localhost:8080/"
        },
        "id": "lUmWL0N0PMdO",
        "outputId": "75364809-5ecf-4665-cd2d-f66091cad4ab"
      },
      "outputs": [
        {
          "name": "stdout",
          "output_type": "stream",
          "text": [
            "The text does not provide a direct description of the Buchanans' house. The narrative mentions a veranda, a dining room, and a driveway filled with hot gravel. The house is located across the bay from Gatsby's place and has a garage that Tom has converted into a stable. They also have an upper window from where Daisy calls out. However, specific details about the house's structure or appearance aren't provided in the excerpts. Please note these descriptions come from the novel \"The Great Gatsby\" by F. Scott Fitzgerald. - [Source: The Great Gatsby, F. Scott Fitzgerald, Chunk: 104-106, Link: https://www.gutenberg.org/cache/epub/64317/pg64317.txt]\n"
          ]
        }
      ],
      "source": [
        "def make_decoupled_rag_prompt(query, n_results=1):\n",
        "\n",
        "    search_results = collection.query(query_texts=[query], n_results=n_results)\n",
        "    total_result_str = \"\"\n",
        "    for doc, metadata in zip(search_results['documents'][0], search_results['metadatas'][0]):\n",
        "        chunk = {\n",
        "            'documents': [doc],\n",
        "            'metadatas': [metadata]\n",
        "        }\n",
        "\n",
        "        expanded_result = expanded_search_results(chunk)\n",
        "        total_result_str += expanded_result\n",
        "        rag_prompt = make_rag_prompt(query, total_result_str)\n",
        "    return rag_prompt\n",
        "\n",
        "# given a search result, we can get everything back in a formatted string\n",
        "prompt = make_decoupled_rag_prompt(\"Describe The Buchanans' House\")\n",
        "rag_completion = get_completion(prompt)\n",
        "print(rag_completion)"
      ]
    }
  ],
  "metadata": {
    "colab": {
      "provenance": []
    },
    "kernelspec": {
      "display_name": "Python 3",
      "language": "python",
      "name": "python3"
    },
    "language_info": {
      "codemirror_mode": {
        "name": "ipython",
        "version": 3
      },
      "file_extension": ".py",
      "mimetype": "text/x-python",
      "name": "python",
      "nbconvert_exporter": "python",
      "pygments_lexer": "ipython3",
      "version": "3.9.7"
    }
  },
  "nbformat": 4,
  "nbformat_minor": 5
}
